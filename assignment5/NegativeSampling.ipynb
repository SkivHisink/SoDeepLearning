{
  "nbformat": 4,
  "nbformat_minor": 0,
  "metadata": {
    "kernelspec": {
      "display_name": "Python 3",
      "language": "python",
      "name": "python3"
    },
    "language_info": {
      "codemirror_mode": {
        "name": "ipython",
        "version": 3
      },
      "file_extension": ".py",
      "mimetype": "text/x-python",
      "name": "python",
      "nbconvert_exporter": "python",
      "pygments_lexer": "ipython3",
      "version": "3.7.0"
    },
    "colab": {
      "name": "NegativeSampling.ipynb",
      "provenance": []
    },
    "accelerator": "GPU"
  },
  "cells": [
    {
      "cell_type": "markdown",
      "metadata": {
        "id": "VbyLEPxFXYGt"
      },
      "source": [
        "# Задание 5.2 - Word2Vec with Negative Sampling\n",
        "\n",
        "В этом задании мы натренируем свои версию word vectors с negative sampling на том же небольшом датасете.\n",
        "\n",
        "\n",
        "Несмотря на то, что основная причина использования Negative Sampling - улучшение скорости тренировки word2vec, в нашем игрушечном примере мы **не требуем** улучшения производительности. Мы используем negative sampling просто как дополнительное упражнение для знакомства с PyTorch.\n",
        "\n",
        "Перед запуском нужно запустить скрипт `download_data.sh`, чтобы скачать данные.\n",
        "\n",
        "Датасет и модель очень небольшие, поэтому это задание можно выполнить и без GPU.\n",
        "\n"
      ]
    },
    {
      "cell_type": "code",
      "metadata": {
        "colab": {
          "base_uri": "https://localhost:8080/"
        },
        "id": "nzB1axztXYGy",
        "outputId": "8a1893af-890c-464c-c6f3-289357ccb8aa"
      },
      "source": [
        "import torch\n",
        "import torch.nn as nn\n",
        "import torch.optim as optim\n",
        "from torch.utils.data import Dataset\n",
        "\n",
        "from torchvision import transforms\n",
        "\n",
        "import numpy as np\n",
        "import matplotlib.pyplot as plt\n",
        "\n",
        "# We'll use Principal Component Analysis (PCA) to visualize word vectors,\n",
        "# so make sure you install dependencies from requirements.txt!\n",
        "from sklearn.decomposition import PCA \n",
        "\n",
        "%matplotlib inline\n",
        "!wget http://nlp.stanford.edu/~socherr/stanfordSentimentTreebank.zip\n",
        "!unzip stanfordSentimentTreebank.zip"
      ],
      "execution_count": 15,
      "outputs": [
        {
          "output_type": "stream",
          "text": [
            "--2021-05-17 04:12:09--  http://nlp.stanford.edu/~socherr/stanfordSentimentTreebank.zip\n",
            "Resolving nlp.stanford.edu (nlp.stanford.edu)... 171.64.67.140\n",
            "Connecting to nlp.stanford.edu (nlp.stanford.edu)|171.64.67.140|:80... connected.\n",
            "HTTP request sent, awaiting response... 302 Found\n",
            "Location: https://nlp.stanford.edu/~socherr/stanfordSentimentTreebank.zip [following]\n",
            "--2021-05-17 04:12:09--  https://nlp.stanford.edu/~socherr/stanfordSentimentTreebank.zip\n",
            "Connecting to nlp.stanford.edu (nlp.stanford.edu)|171.64.67.140|:443... connected.\n",
            "HTTP request sent, awaiting response... 200 OK\n",
            "Length: 6372817 (6.1M) [application/zip]\n",
            "Saving to: ‘stanfordSentimentTreebank.zip.1’\n",
            "\n",
            "stanfordSentimentTr 100%[===================>]   6.08M  4.59MB/s    in 1.3s    \n",
            "\n",
            "2021-05-17 04:12:10 (4.59 MB/s) - ‘stanfordSentimentTreebank.zip.1’ saved [6372817/6372817]\n",
            "\n",
            "Archive:  stanfordSentimentTreebank.zip\n",
            "replace stanfordSentimentTreebank/datasetSentences.txt? [y]es, [n]o, [A]ll, [N]one, [r]ename: N\n"
          ],
          "name": "stdout"
        }
      ]
    },
    {
      "cell_type": "code",
      "metadata": {
        "scrolled": false,
        "colab": {
          "base_uri": "https://localhost:8080/"
        },
        "id": "CKXw4kJCXYGy",
        "outputId": "31446df1-1b1c-4f55-c80f-0a868d6f8c5e"
      },
      "source": [
        "import os\n",
        "import numpy as np\n",
        "\n",
        "class StanfordTreeBank:\n",
        "    '''\n",
        "    Wrapper for accessing Stanford Tree Bank Dataset\n",
        "    https://nlp.stanford.edu/sentiment/treebank.html\n",
        "    \n",
        "    Parses dataset, gives each token and index and provides lookups\n",
        "    from string token to index and back\n",
        "    \n",
        "    Allows to generate random context with sampling strategy described in\n",
        "    word2vec paper:\n",
        "    https://papers.nips.cc/paper/5021-distributed-representations-of-words-and-phrases-and-their-compositionality.pdf\n",
        "    '''\n",
        "    def __init__(self):\n",
        "        self.index_by_token = {} # map of string -> token index\n",
        "        self.token_by_index = list()\n",
        "        self.sentences = list()\n",
        "        self.token_freq = {}\n",
        "        self.token_reject_by_index = None\n",
        "\n",
        "    def load_dataset(self, folder):\n",
        "        filename = os.path.join(folder, \"datasetSentences.txt\")\n",
        "        with open(filename, \"r\", encoding=\"latin1\") as f:\n",
        "            l = f.readline() # skip the first line\n",
        "            for l in f:\n",
        "                splitted_line = l.strip().split()\n",
        "                words = [w.lower() for w in splitted_line[1:]] # First one is a number\n",
        "                self.sentences.append(words)\n",
        "                for word in words:\n",
        "                    if word in self.token_freq:\n",
        "                        self.token_freq[word] +=1 \n",
        "                    else:\n",
        "                        index = len(self.token_by_index)\n",
        "                        self.token_freq[word] = 1\n",
        "                        self.index_by_token[word] = index\n",
        "                        self.token_by_index.append(word)\n",
        "        self.compute_token_prob()\n",
        "                        \n",
        "    def compute_token_prob(self):\n",
        "        words_count = np.array([self.token_freq[token] for token in self.token_by_index])\n",
        "        words_freq = words_count / np.sum(words_count)\n",
        "        # Following sampling strategy from word2vec paper\n",
        "        self.token_reject_by_index = 1- np.sqrt(1e-5/words_freq)\n",
        "    \n",
        "    def check_reject(self, word):\n",
        "        return np.random.rand() > self.token_reject_by_index[self.index_by_token[word]]\n",
        "        \n",
        "    def get_random_context(self, context_length = 5):\n",
        "        \"\"\"\n",
        "        Returns tuple of center word and list of context words\n",
        "        \"\"\"\n",
        "        sentence_sampled = list()\n",
        "        while len(sentence_sampled) <= 2:\n",
        "            sentence_index = np.random.randint(len(self.sentences)) \n",
        "            sentence = self.sentences[sentence_index]\n",
        "            sentence_sampled = [word for word in sentence if self.check_reject(word)]\n",
        "        center_word_index = np.random.randint(len(sentence_sampled))\n",
        "        words_before = sentence_sampled[max(center_word_index - context_length//2, 0):center_word_index]\n",
        "        words_after = sentence_sampled[center_word_index + 1: center_word_index + 1 + context_length//2]\n",
        "        return sentence_sampled[center_word_index], words_before+words_after\n",
        "    \n",
        "    def num_tokens(self):\n",
        "        return len(self.token_by_index)\n",
        "\n",
        "data = StanfordTreeBank()\n",
        "data.load_dataset(\"./stanfordSentimentTreebank/\")\n",
        "print(\"Num tokens:\", data.num_tokens())\n",
        "for i in range(10):\n",
        "    center_word, other_words = data.get_random_context(5)\n",
        "    print(center_word, other_words)"
      ],
      "execution_count": 16,
      "outputs": [
        {
          "output_type": "stream",
          "text": [
            "Num tokens: 19538\n",
            "choking ['inimitable', 'walken']\n",
            "with ['reconstruction', 'buoyant']\n",
            "lines ['ends', '`', 'uhhh']\n",
            "itself ['filth', 'pass', 'adult']\n",
            "poised ['scarlet', 'diva', 'titillation']\n",
            "skipping ['i', 'her']\n",
            "context ['taken', 'climate', '-lrb-']\n",
            "like ['input', 'executives', 'here']\n",
            "wind ['hero', 'might', 'caught', 'pure']\n",
            "afterschool ['rejected', 'freshened', 'dunce']\n"
          ],
          "name": "stdout"
        }
      ]
    },
    {
      "cell_type": "markdown",
      "metadata": {
        "id": "HtV5iKJvXYGz"
      },
      "source": [
        "# Dataset для Negative Sampling должен быть немного другим\n",
        "\n",
        "Как и прежде, Dataset должен сгенерировать много случайных контекстов и превратить их в сэмплы для тренировки.\n",
        "\n",
        "Здесь мы реализуем прямой проход модели сами, поэтому выдавать данные можно в удобном нам виде.\n",
        "Напоминаем, что в случае negative sampling каждым сэмплом является:\n",
        "- вход: слово в one-hot представлении\n",
        "- выход: набор из одного целевого слова и K других случайных слов из словаря.\n",
        "Вместо softmax + cross-entropy loss, сеть обучается через binary cross-entropy loss - то есть, предсказывает набор бинарных переменных, для каждой из которых функция ошибки считается независимо.\n",
        "\n",
        "Для целевого слова бинарное предсказание должно быть позитивным, а для K случайных слов - негативным.\n",
        "\n",
        "Из набора слово-контекст создается N сэмплов (где N - количество слов в контексте), в каждом из них K+1 целевых слов, для только одного из которых предсказание должно быть позитивным.\n",
        "Например, для K=2:\n",
        "\n",
        "Слово: `orders` и контекст: `['love', 'nicest', 'to', '50-year']` создадут 4 сэмпла:\n",
        "- input: `orders`, target: `[love: 1, any: 0, rose: 0]`\n",
        "- input: `orders`, target: `[nicest: 1, fool: 0, grass: 0]`\n",
        "- input: `orders`, target: `[to: 1, -: 0, the: 0]`\n",
        "- input: `orders`, target: `[50-year: 1, ?: 0, door: 0]`\n",
        "\n",
        "Все слова на входе и на выходе закодированы через one-hot encoding, с размером вектора равным количеству токенов."
      ]
    },
    {
      "cell_type": "code",
      "metadata": {
        "colab": {
          "base_uri": "https://localhost:8080/"
        },
        "id": "rXkyeulvXYG0",
        "outputId": "b72d1935-7041-4448-faf5-64e14d887dd7"
      },
      "source": [
        "import random\n",
        "num_negative_samples = 10\n",
        "\n",
        "class Word2VecNegativeSampling(Dataset):\n",
        "    '''\n",
        "    PyTorch Dataset for Word2Vec with Negative Sampling.\n",
        "    Accepts StanfordTreebank as data and is able to generate dataset based on\n",
        "    a number of random contexts\n",
        "    '''\n",
        "    def __init__(self, data, num_negative_samples, num_contexts = 30000):\n",
        "        '''\n",
        "        Initializes Word2VecNegativeSampling, but doesn't generate the samples yet\n",
        "        (for that, use generate_dataset)\n",
        "        Arguments:\n",
        "        data - StanfordTreebank instace\n",
        "        num_negative_samples - number of negative samples to generate in addition to a positive one\n",
        "        num_contexts - number of random contexts to use when generating a dataset\n",
        "        '''\n",
        "        self.data = data\n",
        "        self.num_contexts = num_contexts\n",
        "        self.samples = None\n",
        "        self.num_tokens = len(self.data.index_by_token)\n",
        "        self.num_negative_samples = num_negative_samples\n",
        "    \n",
        "    def generate_dataset(self, context_length = 5):\n",
        "        '''\n",
        "        Generates dataset samples from random contexts\n",
        "        Note: there will be more samples than contexts because every context\n",
        "        can generate more than one sample\n",
        "        '''\n",
        "        self.samples = list()\n",
        "        for i in range(self.num_contexts):\n",
        "            main, contexts = self.data.get_random_context(context_length)\n",
        "            for word in contexts:\n",
        "                negative_indices = list()\n",
        "                while len(negative_indices) < num_negative_samples:\n",
        "                    generated_index = random.randrange(self.num_tokens)\n",
        "                    generated_word = self.data.token_by_index[generated_index]\n",
        "                    if not (generated_word in contexts):\n",
        "                        negative_indices.append(generated_index)\n",
        "                self.samples.append((self.data.index_by_token[main], [self.data.index_by_token[word], *negative_indices]))\n",
        "        \n",
        "    def __len__(self):\n",
        "        '''\n",
        "        Returns total number of samples\n",
        "        '''\n",
        "        return len(self.samples)\n",
        "    \n",
        "    def __getitem__(self, index):\n",
        "        '''\n",
        "        Returns i-th sample\n",
        "        Return values:\n",
        "        input_vector - index of the input word (not torch.Tensor!)\n",
        "        output_indices - torch.Tensor of indices of the target words. Should be 1+num_negative_samples.\n",
        "        output_target - torch.Tensor with float targets for the training. Should be the same size as output_indices\n",
        "                        and have 1 for the context word and 0 everywhere else\n",
        "        '''\n",
        "        input_vector, output = self.samples[index]\n",
        "        output_indices = torch.tensor(output)\n",
        "        output_target = torch.zeros_like(output_indices)\n",
        "        output_target[0] = 1.0\n",
        "        return input_vector, output_indices, output_target\n",
        "\n",
        "dataset = Word2VecNegativeSampling(data, num_negative_samples, 10)\n",
        "dataset.generate_dataset()\n",
        "input_vector, output_indices, output_target = dataset[0]\n",
        "print(\"Sample - input: %s, output indices: %s, output target: %s\" % (int(input_vector), output_indices, output_target)) # target should be able to convert to int\n",
        "assert isinstance(output_indices, torch.Tensor)\n",
        "assert output_indices.shape[0] == num_negative_samples+1\n",
        "assert isinstance(output_target, torch.Tensor)\n",
        "assert output_target.shape[0] == num_negative_samples+1\n",
        "assert torch.sum(output_target) == 1.0"
      ],
      "execution_count": 18,
      "outputs": [
        {
          "output_type": "stream",
          "text": [
            "Sample - input: 8542, output indices: tensor([11237, 17409,  2893, 11943, 14602, 16659, 16960, 18885, 13790, 10631,\n",
            "        10338]), output target: tensor([1, 0, 0, 0, 0, 0, 0, 0, 0, 0, 0])\n"
          ],
          "name": "stdout"
        }
      ]
    },
    {
      "cell_type": "markdown",
      "metadata": {
        "id": "XlAz034dXYG1"
      },
      "source": [
        "# Создаем модель\n",
        "\n",
        "Для нашей задачи нам придется реализовать свою собственную PyTorch модель.\n",
        "Эта модель реализует свой собственный прямой проход (forward pass), который получает на вход индекс входного слова и набор индексов для выходных слов. \n",
        "\n",
        "Как всегда, на вход приходит не один сэмпл, а целый batch.  \n",
        "Напомним, что цели улучшить скорость тренировки у нас нет, достаточно чтобы она сходилась."
      ]
    },
    {
      "cell_type": "code",
      "metadata": {
        "colab": {
          "base_uri": "https://localhost:8080/"
        },
        "id": "zxqx9bLDXYG1",
        "outputId": "4b777ecf-42ce-481a-d2eb-cb2eefb18439"
      },
      "source": [
        "# Create the usual PyTorch structures\n",
        "dataset = Word2VecNegativeSampling(data, num_negative_samples, 30000)\n",
        "dataset.generate_dataset()\n",
        "# As before, we'll be training very small word vectors!\n",
        "wordvec_dim = 10\n",
        "\n",
        "class Word2VecNegativeSamples(nn.Module):\n",
        "    def __init__(self, num_tokens):\n",
        "        super(Word2VecNegativeSamples, self).__init__()\n",
        "        self.input = nn.Linear(num_tokens, 10, bias=False)\n",
        "        self.ouput = nn.Linear(10, num_tokens, bias=False)\n",
        "        self.num_tokens = num_tokens\n",
        "        \n",
        "    def forward(self, input_index_batch, output_indices_batch):\n",
        "        '''\n",
        "        Implements forward pass with negative sampling\n",
        "        Arguments:\n",
        "        input_index_batch - Tensor of ints, shape: (batch_size, ), indices of input words in the batch\n",
        "        output_indices_batch - Tensor if ints, shape: (batch_size, num_negative_samples+1),\n",
        "                                indices of the target words for every sample        \n",
        "        Returns:\n",
        "        predictions - Tensor of floats, shape: (batch_size, num_negative_samples+1)\n",
        "        '''\n",
        "        results = list()\n",
        "        for input_index, output_index in zip(input_index_batch, output_indices_batch):\n",
        "            sample = torch.zeros(self.num_tokens)\n",
        "            sample[input_index] = 1.0\n",
        "            input_results = self.input(sample)\n",
        "            output_results = self.ouput(input_results)\n",
        "            results.append(output_results[output_index])\n",
        "        results_tensor = torch.stack(results)\n",
        "        return results_tensor\n",
        "nn_model = Word2VecNegativeSamples(data.num_tokens())\n",
        "nn_model.type(torch.FloatTensor)"
      ],
      "execution_count": 19,
      "outputs": [
        {
          "output_type": "execute_result",
          "data": {
            "text/plain": [
              "Word2VecNegativeSamples(\n",
              "  (input): Linear(in_features=19538, out_features=10, bias=False)\n",
              "  (ouput): Linear(in_features=10, out_features=19538, bias=False)\n",
              ")"
            ]
          },
          "metadata": {
            "tags": []
          },
          "execution_count": 19
        }
      ]
    },
    {
      "cell_type": "code",
      "metadata": {
        "id": "vP-GDrSxXYG1"
      },
      "source": [
        "def extract_word_vectors(nn_model):\n",
        "    '''\n",
        "    Extracts word vectors from the model\n",
        "    Returns:\n",
        "    input_vectors: torch.Tensor with dimensions (num_tokens, num_dimensions)\n",
        "    output_vectors: torch.Tensor with dimensions (num_tokens, num_dimensions)\n",
        "    '''\n",
        "    return nn_model.input.weight.T, nn_model.ouput.weight\n",
        "\n",
        "untrained_input_vectors, untrained_output_vectors = extract_word_vectors(nn_model)\n",
        "assert untrained_input_vectors.shape == (data.num_tokens(), wordvec_dim)\n",
        "assert untrained_output_vectors.shape == (data.num_tokens(), wordvec_dim)"
      ],
      "execution_count": 20,
      "outputs": []
    },
    {
      "cell_type": "code",
      "metadata": {
        "id": "XXHzmsF0XYG2"
      },
      "source": [
        "def train_neg_sample(model, dataset, train_loader, optimizer, scheduler, num_epochs):    \n",
        "    '''\n",
        "    Trains word2vec with negative samples on and regenerating dataset every epoch\n",
        "    Returns:\n",
        "    loss_history, train_history\n",
        "    '''\n",
        "    loss = nn.BCEWithLogitsLoss().type(torch.FloatTensor)\n",
        "    loss_history = list()\n",
        "    train_history = list()\n",
        "    for epoch in range(num_epochs):\n",
        "        model.train() # Enter train mode\n",
        "        loss_accum = 0\n",
        "        correct_samples = 0\n",
        "        total_samples = 0\n",
        "        for step, (i, j, k) in enumerate(train_loader):\n",
        "            prediction = model(i, j)\n",
        "            k = k.type_as(prediction)\n",
        "            loss_value = loss(prediction, k)\n",
        "            optimizer.zero_grad()\n",
        "            loss_value.backward()\n",
        "            optimizer.step()\n",
        "            _, indices = torch.max(prediction, 1)\n",
        "            correct_samples += torch.sum(indices == 0)\n",
        "            total_samples += k.shape[0]\n",
        "            loss_accum += loss_value\n",
        "        if(scheduler!=None):\n",
        "          scheduler.step()\n",
        "        ave_loss = loss_accum / step\n",
        "        train_accuracy = float(correct_samples) / total_samples\n",
        "        loss_history.append(float(ave_loss))\n",
        "        train_history.append(train_accuracy)\n",
        "        dataset.generate_dataset() # Regenerate dataset every epoch\n",
        "        train_loader = torch.utils.data.DataLoader(dataset, batch_size = 20)\n",
        "        print(\"Average loss: %f, Train accuracy: %f\" % (ave_loss, train_accuracy))\n",
        "        \n",
        "    return loss_history, train_history"
      ],
      "execution_count": 21,
      "outputs": []
    },
    {
      "cell_type": "markdown",
      "metadata": {
        "id": "6LuVIl0nXYG2"
      },
      "source": [
        "# Ну и наконец тренировка!\n",
        "\n",
        "Добейтесь значения ошибки меньше **0.25**."
      ]
    },
    {
      "cell_type": "code",
      "metadata": {
        "colab": {
          "base_uri": "https://localhost:8080/"
        },
        "id": "pzf4AxLbXYG2",
        "outputId": "c7a44415-f5ce-4bc3-c890-2901192447d7"
      },
      "source": [
        "optimizer = optim.SGD(nn_model.parameters(), lr = 6, weight_decay = 0)\n",
        "scheduler = optim.lr_scheduler.StepLR(optimizer, step_size = 10, gamma = 0.8)\n",
        "train_loader = torch.utils.data.DataLoader(dataset, batch_size = 20)\n",
        "\n",
        "loss_history, train_history = train_neg_sample(nn_model, dataset, train_loader, optimizer, scheduler, 50)"
      ],
      "execution_count": 8,
      "outputs": [
        {
          "output_type": "stream",
          "text": [
            "Average loss: 0.693306, Train accuracy: 0.098826\n",
            "Average loss: 0.693217, Train accuracy: 0.110561\n",
            "Average loss: 0.692712, Train accuracy: 0.119636\n",
            "Average loss: 0.689723, Train accuracy: 0.131383\n",
            "Average loss: 0.673976, Train accuracy: 0.158958\n",
            "Average loss: 0.621833, Train accuracy: 0.201856\n",
            "Average loss: 0.535803, Train accuracy: 0.257591\n",
            "Average loss: 0.447737, Train accuracy: 0.294249\n",
            "Average loss: 0.383294, Train accuracy: 0.308321\n",
            "Average loss: 0.342272, Train accuracy: 0.314371\n",
            "Average loss: 0.319206, Train accuracy: 0.316599\n",
            "Average loss: 0.305932, Train accuracy: 0.314872\n",
            "Average loss: 0.296009, Train accuracy: 0.317901\n",
            "Average loss: 0.289410, Train accuracy: 0.322475\n",
            "Average loss: 0.284319, Train accuracy: 0.320865\n",
            "Average loss: 0.281313, Train accuracy: 0.319341\n",
            "Average loss: 0.277980, Train accuracy: 0.321557\n",
            "Average loss: 0.276155, Train accuracy: 0.321615\n",
            "Average loss: 0.274242, Train accuracy: 0.322977\n",
            "Average loss: 0.272530, Train accuracy: 0.323430\n",
            "Average loss: 0.271579, Train accuracy: 0.325449\n",
            "Average loss: 0.271325, Train accuracy: 0.322743\n",
            "Average loss: 0.270118, Train accuracy: 0.325584\n",
            "Average loss: 0.268804, Train accuracy: 0.329473\n",
            "Average loss: 0.268585, Train accuracy: 0.327106\n",
            "Average loss: 0.269084, Train accuracy: 0.322527\n",
            "Average loss: 0.268164, Train accuracy: 0.326691\n",
            "Average loss: 0.267266, Train accuracy: 0.329324\n",
            "Average loss: 0.266633, Train accuracy: 0.329704\n",
            "Average loss: 0.267001, Train accuracy: 0.326777\n",
            "Average loss: 0.266377, Train accuracy: 0.329765\n",
            "Average loss: 0.265995, Train accuracy: 0.332798\n",
            "Average loss: 0.266151, Train accuracy: 0.328617\n",
            "Average loss: 0.264930, Train accuracy: 0.334088\n",
            "Average loss: 0.265451, Train accuracy: 0.330292\n",
            "Average loss: 0.265505, Train accuracy: 0.330984\n",
            "Average loss: 0.265066, Train accuracy: 0.332999\n",
            "Average loss: 0.264124, Train accuracy: 0.335358\n",
            "Average loss: 0.263904, Train accuracy: 0.337752\n",
            "Average loss: 0.263960, Train accuracy: 0.335344\n",
            "Average loss: 0.263604, Train accuracy: 0.336557\n",
            "Average loss: 0.263210, Train accuracy: 0.338090\n",
            "Average loss: 0.262815, Train accuracy: 0.340442\n",
            "Average loss: 0.262060, Train accuracy: 0.344450\n",
            "Average loss: 0.262606, Train accuracy: 0.339538\n",
            "Average loss: 0.262197, Train accuracy: 0.343993\n",
            "Average loss: 0.261646, Train accuracy: 0.344695\n",
            "Average loss: 0.262527, Train accuracy: 0.339942\n",
            "Average loss: 0.261863, Train accuracy: 0.342185\n",
            "Average loss: 0.261297, Train accuracy: 0.344697\n"
          ],
          "name": "stdout"
        }
      ]
    },
    {
      "cell_type": "code",
      "metadata": {
        "colab": {
          "base_uri": "https://localhost:8080/"
        },
        "id": "_yCAj_HYbtcV",
        "outputId": "c350b941-b413-4c04-f450-810003e0da53"
      },
      "source": [
        "optimizer = optim.SGD(nn_model.parameters(), lr = 7, weight_decay = 0)\n",
        "scheduler = optim.lr_scheduler.StepLR(optimizer, step_size = 10, gamma = 0.8)\n",
        "train_loader = torch.utils.data.DataLoader(dataset, batch_size = 25)\n",
        "\n",
        "loss_history_, train_history_ = train_neg_sample(nn_model, dataset, train_loader, optimizer, scheduler, 10)"
      ],
      "execution_count": 13,
      "outputs": [
        {
          "output_type": "stream",
          "text": [
            "Average loss: 0.253403, Train accuracy: 0.375408\n",
            "Average loss: 0.260159, Train accuracy: 0.348121\n",
            "Average loss: 0.259758, Train accuracy: 0.352418\n",
            "Average loss: 0.258393, Train accuracy: 0.356643\n",
            "Average loss: 0.257486, Train accuracy: 0.358587\n",
            "Average loss: 0.256612, Train accuracy: 0.365153\n",
            "Average loss: 0.256139, Train accuracy: 0.365880\n",
            "Average loss: 0.254910, Train accuracy: 0.368415\n",
            "Average loss: 0.254392, Train accuracy: 0.372264\n",
            "Average loss: 0.253375, Train accuracy: 0.378641\n"
          ],
          "name": "stdout"
        }
      ]
    },
    {
      "cell_type": "code",
      "metadata": {
        "id": "L6NkXkRMXYG2",
        "colab": {
          "base_uri": "https://localhost:8080/",
          "height": 282
        },
        "outputId": "63252ed2-d7b2-49c6-dc66-4ef9cd04fc23"
      },
      "source": [
        "# Visualize training graphs\n",
        "plt.subplot(211)\n",
        "plt.plot(train_history)\n",
        "plt.subplot(212)\n",
        "plt.plot(loss_history)"
      ],
      "execution_count": 9,
      "outputs": [
        {
          "output_type": "execute_result",
          "data": {
            "text/plain": [
              "[<matplotlib.lines.Line2D at 0x7f51f2f47850>]"
            ]
          },
          "metadata": {
            "tags": []
          },
          "execution_count": 9
        },
        {
          "output_type": "display_data",
          "data": {
            "image/png": "[encoded data removed]",
            "text/plain": [
              "<Figure size 432x288 with 2 Axes>"
            ]
          },
          "metadata": {
            "tags": [],
            "needs_background": "light"
          }
        }
      ]
    },
    {
      "cell_type": "code",
      "metadata": {
        "id": "4abIFTQQXYG3",
        "colab": {
          "base_uri": "https://localhost:8080/",
          "height": 941
        },
        "outputId": "c1842661-24bd-4287-a633-a512795787ce"
      },
      "source": [
        "trained_input_vectors, trained_output_vectors = extract_word_vectors(nn_model)\n",
        "assert trained_input_vectors.shape == (data.num_tokens(), wordvec_dim)\n",
        "assert trained_output_vectors.shape == (data.num_tokens(), wordvec_dim)\n",
        "\n",
        "def visualize_vectors(input_vectors, output_vectors, title=''):\n",
        "    full_vectors = torch.cat((input_vectors, output_vectors), 0)\n",
        "    wordvec_embedding = PCA(n_components=2).fit_transform(full_vectors.detach().numpy())\n",
        "\n",
        "    # Helpful words form CS244D example\n",
        "    # http://cs224d.stanford.edu/assignment1/index.html\n",
        "    visualize_words = {'green': [\"the\", \"a\", \"an\"], \n",
        "                      'blue': [\",\", \".\", \"?\", \"!\", \"``\", \"''\", \"--\"], \n",
        "                      'brown': [\"good\", \"great\", \"cool\", \"brilliant\", \"wonderful\", \n",
        "                              \"well\", \"amazing\", \"worth\", \"sweet\", \"enjoyable\"],\n",
        "                      'orange': [\"boring\", \"bad\", \"waste\", \"dumb\", \"annoying\", \"stupid\"],\n",
        "                      'red': ['tell', 'told', 'said', 'say', 'says', 'tells', 'goes', 'go', 'went']\n",
        "                     }\n",
        "\n",
        "    plt.figure(figsize=(7,7))\n",
        "    plt.suptitle(title)\n",
        "    for color, words in visualize_words.items():\n",
        "        points = np.array([wordvec_embedding[data.index_by_token[w]] for w in words])\n",
        "        for i, word in enumerate(words):\n",
        "            plt.text(points[i, 0], points[i, 1], word, color=color,horizontalalignment='center')\n",
        "        plt.scatter(points[:, 0], points[:, 1], c=color, alpha=0.3, s=0.5)\n",
        "\n",
        "visualize_vectors(untrained_input_vectors, untrained_output_vectors, \"Untrained word vectors\")\n",
        "visualize_vectors(trained_input_vectors, trained_output_vectors, \"Trained word vectors\")"
      ],
      "execution_count": 10,
      "outputs": [
        {
          "output_type": "display_data",
          "data": {
            "image/png": "[encoded data removed]",
            "text/plain": [
              "<Figure size 504x504 with 1 Axes>"
            ]
          },
          "metadata": {
            "tags": [],
            "needs_background": "light"
          }
        },
        {
          "output_type": "display_data",
          "data": {
            "image/png": "[encoded data removed]",
            "text/plain": [
              "<Figure size 504x504 with 1 Axes>"
            ]
          },
          "metadata": {
            "tags": [],
            "needs_background": "light"
          }
        }
      ]
    },
    {
      "cell_type": "code",
      "metadata": {
        "colab": {
          "base_uri": "https://localhost:8080/"
        },
        "id": "nuz6hqg1gBe6",
        "outputId": "8009e011-d447-49e8-ab90-3d23898a2063"
      },
      "source": [
        "optimizer = optim.SGD(nn_model.parameters(), lr = 7.2, weight_decay = 0)\n",
        "scheduler = optim.lr_scheduler.StepLR(optimizer, step_size = 10, gamma = 0.8)\n",
        "train_loader = torch.utils.data.DataLoader(dataset, batch_size = 20)\n",
        "\n",
        "loss_history, train_history = train_neg_sample(nn_model, dataset, train_loader, optimizer, scheduler, 20)"
      ],
      "execution_count": 22,
      "outputs": [
        {
          "output_type": "stream",
          "text": [
            "Average loss: 0.694217, Train accuracy: 0.097341\n",
            "Average loss: 0.693295, Train accuracy: 0.104600\n",
            "Average loss: 0.693145, Train accuracy: 0.114663\n",
            "Average loss: 0.691862, Train accuracy: 0.121980\n",
            "Average loss: 0.681836, Train accuracy: 0.147087\n",
            "Average loss: 0.632676, Train accuracy: 0.195849\n",
            "Average loss: 0.532658, Train accuracy: 0.256160\n",
            "Average loss: 0.431405, Train accuracy: 0.292327\n",
            "Average loss: 0.365928, Train accuracy: 0.305630\n",
            "Average loss: 0.326631, Train accuracy: 0.313974\n",
            "Average loss: 0.306585, Train accuracy: 0.317219\n",
            "Average loss: 0.296221, Train accuracy: 0.317991\n",
            "Average loss: 0.288374, Train accuracy: 0.318813\n",
            "Average loss: 0.283597, Train accuracy: 0.317406\n",
            "Average loss: 0.279993, Train accuracy: 0.318202\n",
            "Average loss: 0.276683, Train accuracy: 0.320594\n",
            "Average loss: 0.274232, Train accuracy: 0.322620\n",
            "Average loss: 0.272834, Train accuracy: 0.323366\n",
            "Average loss: 0.271209, Train accuracy: 0.325461\n",
            "Average loss: 0.270454, Train accuracy: 0.324470\n"
          ],
          "name": "stdout"
        }
      ]
    },
    {
      "cell_type": "code",
      "metadata": {
        "colab": {
          "base_uri": "https://localhost:8080/"
        },
        "id": "vEuWuCrxn17J",
        "outputId": "5664781c-3e8c-4154-a922-c7dd294c095d"
      },
      "source": [
        "optimizer = optim.SGD(nn_model.parameters(), lr = 7.2, weight_decay = 0)\n",
        "scheduler = optim.lr_scheduler.StepLR(optimizer, step_size = 10, gamma = 0.8)\n",
        "train_loader = torch.utils.data.DataLoader(dataset, batch_size = 20)\n",
        "\n",
        "loss_history_, train_history_ = train_neg_sample(nn_model, dataset, train_loader, optimizer, scheduler, 20)"
      ],
      "execution_count": 23,
      "outputs": [
        {
          "output_type": "stream",
          "text": [
            "Average loss: 0.270078, Train accuracy: 0.323058\n",
            "Average loss: 0.269072, Train accuracy: 0.323766\n",
            "Average loss: 0.268191, Train accuracy: 0.325987\n",
            "Average loss: 0.267125, Train accuracy: 0.328131\n",
            "Average loss: 0.267237, Train accuracy: 0.326721\n",
            "Average loss: 0.266251, Train accuracy: 0.327549\n",
            "Average loss: 0.265471, Train accuracy: 0.329553\n",
            "Average loss: 0.265006, Train accuracy: 0.330928\n",
            "Average loss: 0.264652, Train accuracy: 0.333217\n",
            "Average loss: 0.263878, Train accuracy: 0.334379\n",
            "Average loss: 0.263439, Train accuracy: 0.336920\n",
            "Average loss: 0.262672, Train accuracy: 0.339902\n",
            "Average loss: 0.261828, Train accuracy: 0.343488\n",
            "Average loss: 0.260802, Train accuracy: 0.344571\n",
            "Average loss: 0.261202, Train accuracy: 0.345579\n",
            "Average loss: 0.259564, Train accuracy: 0.352118\n",
            "Average loss: 0.259314, Train accuracy: 0.351675\n",
            "Average loss: 0.258729, Train accuracy: 0.355178\n",
            "Average loss: 0.258077, Train accuracy: 0.357737\n",
            "Average loss: 0.257079, Train accuracy: 0.361875\n"
          ],
          "name": "stdout"
        }
      ]
    },
    {
      "cell_type": "code",
      "metadata": {
        "colab": {
          "base_uri": "https://localhost:8080/"
        },
        "id": "970-QevCt3fm",
        "outputId": "a1376dce-b418-4c02-a2bd-c8251a60fb8b"
      },
      "source": [
        "optimizer = optim.SGD(nn_model.parameters(), lr = 7.2, weight_decay = 0)\n",
        "scheduler = optim.lr_scheduler.StepLR(optimizer, step_size = 10, gamma = 0.8)\n",
        "train_loader = torch.utils.data.DataLoader(dataset, batch_size = 20)\n",
        "\n",
        "loss_history_2, train_history_2 = train_neg_sample(nn_model, dataset, train_loader, optimizer, scheduler, 10)"
      ],
      "execution_count": 24,
      "outputs": [
        {
          "output_type": "stream",
          "text": [
            "Average loss: 0.255942, Train accuracy: 0.364897\n",
            "Average loss: 0.254911, Train accuracy: 0.369594\n",
            "Average loss: 0.254980, Train accuracy: 0.372220\n",
            "Average loss: 0.253050, Train accuracy: 0.377966\n",
            "Average loss: 0.251976, Train accuracy: 0.382725\n",
            "Average loss: 0.250956, Train accuracy: 0.388388\n",
            "Average loss: 0.249466, Train accuracy: 0.394230\n",
            "Average loss: 0.248273, Train accuracy: 0.398215\n",
            "Average loss: 0.247056, Train accuracy: 0.403567\n",
            "Average loss: 0.245901, Train accuracy: 0.407528\n"
          ],
          "name": "stdout"
        }
      ]
    },
    {
      "cell_type": "code",
      "metadata": {
        "colab": {
          "base_uri": "https://localhost:8080/",
          "height": 282
        },
        "id": "TZ9UW4WnvoLs",
        "outputId": "819ba811-fb50-4704-db23-6c220c8c5554"
      },
      "source": [
        "# Visualize training graphs\n",
        "plt.subplot(211)\n",
        "plt.plot([*train_history, *train_history_, *train_history_2])\n",
        "plt.subplot(212)\n",
        "plt.plot([*loss_history, *loss_history_, *loss_history_2])"
      ],
      "execution_count": 25,
      "outputs": [
        {
          "output_type": "execute_result",
          "data": {
            "text/plain": [
              "[<matplotlib.lines.Line2D at 0x7f51d34514d0>]"
            ]
          },
          "metadata": {
            "tags": []
          },
          "execution_count": 25
        },
        {
          "output_type": "display_data",
          "data": {
            "image/png": "[encoded data removed]",
            "text/plain": [
              "<Figure size 432x288 with 2 Axes>"
            ]
          },
          "metadata": {
            "tags": [],
            "needs_background": "light"
          }
        }
      ]
    },
    {
      "cell_type": "markdown",
      "metadata": {
        "id": "yQOGv-JVXYG3"
      },
      "source": [
        "# Визуализируем вектора для разного вида слов до и после тренировки\n",
        "\n",
        "Как и ранее, в случае успешной тренировки вы должны увидеть как вектора слов разных типов (например, знаков препинания, предлогов и остальных)"
      ]
    },
    {
      "cell_type": "code",
      "metadata": {
        "id": "gxCWeId-XYG3",
        "colab": {
          "base_uri": "https://localhost:8080/",
          "height": 941
        },
        "outputId": "f2896682-94c2-4e0f-995a-6fb4b94671c6"
      },
      "source": [
        "trained_input_vectors, trained_output_vectors = extract_word_vectors(nn_model)\n",
        "assert trained_input_vectors.shape == (data.num_tokens(), wordvec_dim)\n",
        "assert trained_output_vectors.shape == (data.num_tokens(), wordvec_dim)\n",
        "\n",
        "def visualize_vectors(input_vectors, output_vectors, title=''):\n",
        "    full_vectors = torch.cat((input_vectors, output_vectors), 0)\n",
        "    wordvec_embedding = PCA(n_components=2).fit_transform(full_vectors.detach().numpy())\n",
        "\n",
        "    # Helpful words form CS244D example\n",
        "    # http://cs224d.stanford.edu/assignment1/index.html\n",
        "    visualize_words = {'green': [\"the\", \"a\", \"an\"], \n",
        "                      'blue': [\",\", \".\", \"?\", \"!\", \"``\", \"''\", \"--\"], \n",
        "                      'brown': [\"good\", \"great\", \"cool\", \"brilliant\", \"wonderful\", \n",
        "                              \"well\", \"amazing\", \"worth\", \"sweet\", \"enjoyable\"],\n",
        "                      'orange': [\"boring\", \"bad\", \"waste\", \"dumb\", \"annoying\", \"stupid\"],\n",
        "                      'red': ['tell', 'told', 'said', 'say', 'says', 'tells', 'goes', 'go', 'went']\n",
        "                     }\n",
        "\n",
        "    plt.figure(figsize=(7,7))\n",
        "    plt.suptitle(title)\n",
        "    for color, words in visualize_words.items():\n",
        "        points = np.array([wordvec_embedding[data.index_by_token[w]] for w in words])\n",
        "        for i, word in enumerate(words):\n",
        "            plt.text(points[i, 0], points[i, 1], word, color=color,horizontalalignment='center')\n",
        "        plt.scatter(points[:, 0], points[:, 1], c=color, alpha=0.3, s=0.5)\n",
        "\n",
        "visualize_vectors(untrained_input_vectors, untrained_output_vectors, \"Untrained word vectors\")\n",
        "visualize_vectors(trained_input_vectors, trained_output_vectors, \"Trained word vectors\")"
      ],
      "execution_count": 26,
      "outputs": [
        {
          "output_type": "display_data",
          "data": {
            "image/png": "[encoded data removed]",
            "text/plain": [
              "<Figure size 504x504 with 1 Axes>"
            ]
          },
          "metadata": {
            "tags": [],
            "needs_background": "light"
          }
        },
        {
          "output_type": "display_data",
          "data": {
            "image/png": "[encoded data removed]",
            "text/plain": [
              "<Figure size 504x504 with 1 Axes>"
            ]
          },
          "metadata": {
            "tags": [],
            "needs_background": "light"
          }
        }
      ]
    }
  ]
}
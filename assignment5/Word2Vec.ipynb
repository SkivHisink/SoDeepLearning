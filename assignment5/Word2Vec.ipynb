{
  "nbformat": 4,
  "nbformat_minor": 0,
  "metadata": {
    "kernelspec": {
      "display_name": "Python 3",
      "language": "python",
      "name": "python3"
    },
    "language_info": {
      "codemirror_mode": {
        "name": "ipython",
        "version": 3
      },
      "file_extension": ".py",
      "mimetype": "text/x-python",
      "name": "python",
      "nbconvert_exporter": "python",
      "pygments_lexer": "ipython3",
      "version": "3.7.0"
    },
    "colab": {
      "name": "Word2Vec.ipynb",
      "provenance": []
    },
    "accelerator": "GPU"
  },
  "cells": [
    {
      "cell_type": "markdown",
      "metadata": {
        "id": "xMtSjjbBEQ1b"
      },
      "source": [
        "# Задание 5.1 - Word2Vec\n",
        "\n",
        "В этом задании мы натренируем свои word vectors на очень небольшом датасете.\n",
        "Мы будем использовать самую простую версию word2vec, без negative sampling и других оптимизаций.\n",
        "\n",
        "Перед запуском нужно запустить скрипт `download_data.sh` чтобы скачать данные.\n",
        "\n",
        "Датасет и модель очень небольшие, поэтому это задание можно выполнить и без GPU."
      ]
    },
    {
      "cell_type": "code",
      "metadata": {
        "colab": {
          "base_uri": "https://localhost:8080/"
        },
        "id": "H1MXk545Esu-",
        "outputId": "66a6a14e-5285-4399-deca-d9fb731696e5"
      },
      "source": [
        "!wget \"http://nlp.stanford.edu/~socherr/stanfordSentimentTreebank.zip\"\n",
        "!unzip -q \"stanfordSentimentTreebank.zip\"\n"
      ],
      "execution_count": 1,
      "outputs": [
        {
          "output_type": "stream",
          "text": [
            "--2021-05-16 16:20:48--  http://nlp.stanford.edu/~socherr/stanfordSentimentTreebank.zip\n",
            "Resolving nlp.stanford.edu (nlp.stanford.edu)... 171.64.67.140\n",
            "Connecting to nlp.stanford.edu (nlp.stanford.edu)|171.64.67.140|:80... connected.\n",
            "HTTP request sent, awaiting response... 302 Found\n",
            "Location: https://nlp.stanford.edu/~socherr/stanfordSentimentTreebank.zip [following]\n",
            "--2021-05-16 16:20:48--  https://nlp.stanford.edu/~socherr/stanfordSentimentTreebank.zip\n",
            "Connecting to nlp.stanford.edu (nlp.stanford.edu)|171.64.67.140|:443... connected.\n",
            "HTTP request sent, awaiting response... 200 OK\n",
            "Length: 6372817 (6.1M) [application/zip]\n",
            "Saving to: ‘stanfordSentimentTreebank.zip.1’\n",
            "\n",
            "stanfordSentimentTr 100%[===================>]   6.08M  9.69MB/s    in 0.6s    \n",
            "\n",
            "2021-05-16 16:20:49 (9.69 MB/s) - ‘stanfordSentimentTreebank.zip.1’ saved [6372817/6372817]\n",
            "\n",
            "replace stanfordSentimentTreebank/datasetSentences.txt? [y]es, [n]o, [A]ll, [N]one, [r]ename: N\n"
          ],
          "name": "stdout"
        }
      ]
    },
    {
      "cell_type": "code",
      "metadata": {
        "id": "27vp1BfZEQ1h"
      },
      "source": [
        "import torch\n",
        "import torch.nn as nn\n",
        "import torch.optim as optim\n",
        "from torch.utils.data import Dataset\n",
        "\n",
        "from torchvision import transforms\n",
        "\n",
        "import numpy as np\n",
        "import matplotlib.pyplot as plt\n",
        "\n",
        "# We'll use Principal Component Analysis (PCA) to visualize word vectors,\n",
        "# so make sure you install dependencies from requirements.txt!\n",
        "from sklearn.decomposition import PCA \n",
        "\n",
        "%matplotlib inline"
      ],
      "execution_count": 2,
      "outputs": []
    },
    {
      "cell_type": "code",
      "metadata": {
        "scrolled": false,
        "colab": {
          "base_uri": "https://localhost:8080/"
        },
        "id": "DIEAGKGVEQ1i",
        "outputId": "d8738264-93d4-447c-eb1a-5fc956e22e31"
      },
      "source": [
        "import os\n",
        "import numpy as np\n",
        "\n",
        "class StanfordTreeBank:\n",
        "    '''\n",
        "    Wrapper for accessing Stanford Tree Bank Dataset\n",
        "    https://nlp.stanford.edu/sentiment/treebank.html\n",
        "    \n",
        "    Parses dataset, gives each token and index and provides lookups\n",
        "    from string token to index and back\n",
        "    \n",
        "    Allows to generate random context with sampling strategy described in\n",
        "    word2vec paper:\n",
        "    https://papers.nips.cc/paper/5021-distributed-representations-of-words-and-phrases-and-their-compositionality.pdf\n",
        "    '''\n",
        "    def __init__(self):\n",
        "        self.index_by_token = {}\n",
        "        self.token_by_index = []\n",
        "\n",
        "        self.sentences = []\n",
        "\n",
        "        self.token_freq = {}\n",
        "        \n",
        "        self.token_reject_by_index = None\n",
        "\n",
        "    def load_dataset(self, folder):\n",
        "        filename = os.path.join(folder, \"datasetSentences.txt\")\n",
        "\n",
        "        with open(filename, \"r\", encoding=\"latin1\") as f:\n",
        "            l = f.readline() # skip the first line\n",
        "            \n",
        "            for l in f:\n",
        "                splitted_line = l.strip().split()\n",
        "                words = [w.lower() for w in splitted_line[1:]] # First one is a number\n",
        "                    \n",
        "                self.sentences.append(words)\n",
        "                for word in words:\n",
        "                    if word in self.token_freq:\n",
        "                        self.token_freq[word] +=1 \n",
        "                    else:\n",
        "                        index = len(self.token_by_index)\n",
        "                        self.token_freq[word] = 1\n",
        "                        self.index_by_token[word] = index\n",
        "                        self.token_by_index.append(word)\n",
        "        self.compute_token_prob()\n",
        "                        \n",
        "    def compute_token_prob(self):\n",
        "        words_count = np.array([self.token_freq[token] for token in self.token_by_index])\n",
        "        words_freq = words_count / np.sum(words_count)\n",
        "        \n",
        "        # Following sampling strategy from word2vec paper:\n",
        "        # https://papers.nips.cc/paper/5021-distributed-representations-of-words-and-phrases-and-their-compositionality.pdf\n",
        "        self.token_reject_by_index = 1- np.sqrt(1e-5/words_freq)\n",
        "    \n",
        "    def check_reject(self, word):\n",
        "        return np.random.rand() > self.token_reject_by_index[self.index_by_token[word]]\n",
        "        \n",
        "    def get_random_context(self, context_length=5):\n",
        "        \"\"\"\n",
        "        Returns tuple of center word and list of context words\n",
        "        \"\"\"\n",
        "        sentence_sampled = []\n",
        "        while len(sentence_sampled) <= 2:\n",
        "            sentence_index = np.random.randint(len(self.sentences)) \n",
        "            sentence = self.sentences[sentence_index]\n",
        "            sentence_sampled = [word for word in sentence if self.check_reject(word)]\n",
        "    \n",
        "        center_word_index = np.random.randint(len(sentence_sampled))\n",
        "        \n",
        "        words_before = sentence_sampled[max(center_word_index - context_length//2,0):center_word_index]\n",
        "        words_after = sentence_sampled[center_word_index+1: center_word_index+1+context_length//2]\n",
        "        \n",
        "        return sentence_sampled[center_word_index], words_before+words_after\n",
        "    \n",
        "    def num_tokens(self):\n",
        "        return len(self.token_by_index)\n",
        "        \n",
        "data = StanfordTreeBank()\n",
        "data.load_dataset(\"./stanfordSentimentTreebank/\")\n",
        "\n",
        "print(\"Num tokens:\", data.num_tokens())\n",
        "for i in range(5):\n",
        "    center_word, other_words = data.get_random_context(5)\n",
        "    print(center_word, other_words)\n",
        "device = torch.device(\"cuda:0\") # Let's make sure GPU is available!\n",
        "device"
      ],
      "execution_count": 3,
      "outputs": [
        {
          "output_type": "stream",
          "text": [
            "Num tokens: 19538\n",
            "anybody ['`', 'reality', 'contemplating', 'drastic']\n",
            "spirit ['revives', 'free-wheeling']\n",
            "inherently ['caustic', 'chimes']\n",
            "coarse ['cartoon', 'shameless']\n",
            "spouting ['therapy-dependent', 'flakeball', 'malapropisms', '...']\n"
          ],
          "name": "stdout"
        },
        {
          "output_type": "execute_result",
          "data": {
            "text/plain": [
              "device(type='cuda', index=0)"
            ]
          },
          "metadata": {
            "tags": []
          },
          "execution_count": 3
        }
      ]
    },
    {
      "cell_type": "code",
      "metadata": {
        "colab": {
          "base_uri": "https://localhost:8080/"
        },
        "id": "Eye3V_bKEiEh",
        "outputId": "32c26f16-2df4-4aec-c3ff-24c815de491c"
      },
      "source": [
        "from google.colab import drive\n",
        "drive.mount('/content/drive')\n"
      ],
      "execution_count": null,
      "outputs": [
        {
          "output_type": "stream",
          "text": [
            "Mounted at /content/drive\n"
          ],
          "name": "stdout"
        }
      ]
    },
    {
      "cell_type": "markdown",
      "metadata": {
        "id": "z-aRmuzREQ1j"
      },
      "source": [
        "# Имплеменируем PyTorch-style Dataset для Word2Vec\n",
        "\n",
        "Этот Dataset должен сгенерировать много случайных контекстов и превратить их в сэмплы для тренировки.\n",
        "\n",
        "Напоминаем, что word2vec модель получает на вход One-hot вектор слова и тренирует простую сеть для предсказания на его основе соседних слов.\n",
        "Из набора слово-контекст создается N сэмплов (где N - количество слов в контексте):\n",
        "\n",
        "Например:\n",
        "\n",
        "Слово: `orders` и контекст: `['love', 'nicest', 'to', '50-year']` создадут 4 сэмпла:\n",
        "- input: `orders`, target: `love`\n",
        "- input: `orders`, target: `nicest`\n",
        "- input: `orders`, target: `to`\n",
        "- input: `orders`, target: `50-year`\n",
        "\n",
        "Все слова на входе и на выходе закодированы через one-hot encoding, с размером вектора равным количеству токенов."
      ]
    },
    {
      "cell_type": "code",
      "metadata": {
        "colab": {
          "base_uri": "https://localhost:8080/"
        },
        "id": "Y67X2I3sEQ1j",
        "outputId": "789793a5-e0fa-44b0-ef01-99009da34a89"
      },
      "source": [
        "class Word2VecPlain(Dataset):\n",
        "    '''\n",
        "    PyTorch Dataset for plain Word2Vec.\n",
        "    Accepts StanfordTreebank as data and is able to generate dataset based on\n",
        "    a number of random contexts\n",
        "    '''\n",
        "    def __init__(self, data, num_contexts=30000):\n",
        "        '''\n",
        "        Initializes Word2VecPlain, but doesn't generate the samples yet\n",
        "        (for that, use generate_dataset)\n",
        "        Arguments:\n",
        "        data - StanfordTreebank instace\n",
        "        num_contexts - number of random contexts to use when generating a dataset\n",
        "        '''\n",
        "        self.data = data\n",
        "        self.num_contexts = num_contexts\n",
        "        self.num_tokens = len(data.index_by_token)\n",
        "        self.samples = []\n",
        "    \n",
        "        '''\n",
        "        Generates dataset samples from random contexts\n",
        "        Note: there will be more samples than contexts because every context\n",
        "        can generate more than one sample\n",
        "        '''\n",
        "    def generate_dataset(self):\n",
        "      for i in range(self.num_contexts):\n",
        "        center_word, context_words = data.get_random_context()\n",
        "        for j in context_words:\n",
        "          sample = (self.data.index_by_token[center_word], self.data.index_by_token[j])\n",
        "          self.samples.append(sample)\n",
        "        \n",
        "    def __len__(self):\n",
        "        '''\n",
        "        Returns total number of samples\n",
        "        '''\n",
        "        return len(self.samples)\n",
        "    \n",
        "    def __getitem__(self, index):\n",
        "        '''\n",
        "        Returns i-th sample\n",
        "        \n",
        "        Return values:\n",
        "        input_vector - torch.Tensor with one-hot representation of the input vector\n",
        "        output_index - index of the target word (not torch.Tensor!)\n",
        "        '''\n",
        "        input_index, output_index = self.samples[index]\n",
        "        input_vector = torch.zeros(self.num_tokens)\n",
        "        input_vector[input_index] = 1.0\n",
        "        return input_vector, output_index   \n",
        "\n",
        "dataset = Word2VecPlain(data, 10)\n",
        "dataset.generate_dataset()\n",
        "input_vector, target = dataset[3]\n",
        "print(\"Sample - input: %s, target: %s\" % (input_vector, int(target))) # target should be able to convert to int\n",
        "assert isinstance(input_vector, torch.Tensor)\n",
        "assert torch.sum(input_vector) == 1.0\n",
        "assert input_vector.shape[0] == data.num_tokens()"
      ],
      "execution_count": 4,
      "outputs": [
        {
          "output_type": "stream",
          "text": [
            "Sample - input: tensor([0., 0., 0.,  ..., 0., 0., 0.]), target: 7922\n"
          ],
          "name": "stdout"
        }
      ]
    },
    {
      "cell_type": "markdown",
      "metadata": {
        "id": "xLIY5VvYEQ1k"
      },
      "source": [
        "# Создаем модель и тренируем ее"
      ]
    },
    {
      "cell_type": "code",
      "metadata": {
        "colab": {
          "base_uri": "https://localhost:8080/"
        },
        "id": "neRRdVZZEQ1k",
        "outputId": "5648f837-e543-49ea-f227-64cee9219c6d"
      },
      "source": [
        "# Create the usual PyTorch structures\n",
        "dataset = Word2VecPlain(data, 30000)\n",
        "dataset.generate_dataset()\n",
        "\n",
        "# We'll be training very small word vectors!\n",
        "wordvec_dim = 10\n",
        "\n",
        "# We can use a standard sequential model for this\n",
        "nn_model = nn.Sequential(\n",
        "            nn.Linear(dataset.num_tokens, wordvec_dim, bias=False),\n",
        "            nn.Linear(wordvec_dim, dataset.num_tokens, bias=False), \n",
        "         )\n",
        "nn_model.type(torch.FloatTensor)"
      ],
      "execution_count": 5,
      "outputs": [
        {
          "output_type": "execute_result",
          "data": {
            "text/plain": [
              "Sequential(\n",
              "  (0): Linear(in_features=19538, out_features=10, bias=False)\n",
              "  (1): Linear(in_features=10, out_features=19538, bias=False)\n",
              ")"
            ]
          },
          "metadata": {
            "tags": []
          },
          "execution_count": 5
        }
      ]
    },
    {
      "cell_type": "code",
      "metadata": {
        "id": "k0UVgQ6jEQ1k"
      },
      "source": [
        "def extract_word_vectors(nn_model):\n",
        "    '''\n",
        "    Extracts word vectors from the model\n",
        "    \n",
        "    Returns:\n",
        "    input_vectors: torch.Tensor with dimensions (num_tokens, num_dimensions)\n",
        "    output_vectors: torch.Tensor with dimensions (num_tokens, num_dimensions)\n",
        "    '''\n",
        "    weights = list()\n",
        "    for layer in nn_model.children():\n",
        "        parameter = list(layer.parameters())\n",
        "        weights.append(parameter[0])\n",
        "    return weights[0].T, weights[1]\n",
        "\n",
        "untrained_input_vectors, untrained_output_vectors = extract_word_vectors(nn_model)\n",
        "assert untrained_input_vectors.shape == (data.num_tokens(), wordvec_dim)\n",
        "assert untrained_output_vectors.shape == (data.num_tokens(), wordvec_dim)"
      ],
      "execution_count": 6,
      "outputs": []
    },
    {
      "cell_type": "code",
      "metadata": {
        "id": "tb2VpUhhEQ1l"
      },
      "source": [
        "def train_model(model, dataset, train_loader, optimizer, scheduler, num_epochs):\n",
        "    '''\n",
        "    Trains plain word2vec using cross-entropy loss and regenerating dataset every epoch\n",
        "    \n",
        "    Returns:\n",
        "    loss_history, train_history\n",
        "    '''\n",
        "    \n",
        "    loss = nn.CrossEntropyLoss().type(torch.FloatTensor)\n",
        "    \n",
        "    loss_history = []\n",
        "    train_history = []\n",
        "    for epoch in range(num_epochs):\n",
        "        model.train() # Enter train mode\n",
        "        dataset.generate_dataset() # Regenerate dataset every epoch\n",
        "        train_loader = torch.utils.data.DataLoader(dataset, batch_size= 15)\n",
        "        # TODO Implement training for this model\n",
        "        # Note we don't have any validation set here because our purpose is the word vectors,\n",
        "        # not the predictive performance of the model\n",
        "        #\n",
        "        # And don't forget to step the learing rate scheduler!  \n",
        "        \n",
        "        loss_accum = 0\n",
        "        correct_samples = 0\n",
        "        total_samples = 0\n",
        "        \n",
        "        for i_step, (x, y) in enumerate(train_loader):\n",
        "            x_gpu = x.to(device)\n",
        "            y_gpu = y.to(device)\n",
        "            \n",
        "            prediction = model(x_gpu)    \n",
        "            loss_value = loss(prediction, y_gpu)\n",
        "            optimizer.zero_grad()\n",
        "            loss_value.backward()\n",
        "            optimizer.step()\n",
        "            _, indices = torch.max(prediction, 1)\n",
        "            correct_samples += float (torch.sum(indices == y_gpu))\n",
        "            total_samples += float (y.shape[0])\n",
        "            loss_accum += float( loss_value )\n",
        "            \n",
        "            del prediction\n",
        "            del loss_value\n",
        "            del _, indices\n",
        "                      \n",
        "        ave_loss = float(loss_accum) / float(i_step)\n",
        "        train_accuracy = float(correct_samples) / float(total_samples)\n",
        "        scheduler.step()\n",
        "         \n",
        "        loss_history.append(float(ave_loss))\n",
        "        train_history.append(float(train_accuracy))\n",
        "        \n",
        "        print(\"Epoch %i, Average loss: %f, Train accuracy: %f\" % (epoch, ave_loss, train_accuracy))\n",
        "        \n",
        "    return loss_history, train_history"
      ],
      "execution_count": 7,
      "outputs": []
    },
    {
      "cell_type": "code",
      "metadata": {
        "colab": {
          "base_uri": "https://localhost:8080/"
        },
        "id": "t1nJmF4Uuzu4",
        "outputId": "62f4a1b0-4bb7-4fd5-95c3-a42395e5a41f"
      },
      "source": [
        "device"
      ],
      "execution_count": null,
      "outputs": [
        {
          "output_type": "execute_result",
          "data": {
            "text/plain": [
              "device(type='cuda', index=0)"
            ]
          },
          "metadata": {
            "tags": []
          },
          "execution_count": 13
        }
      ]
    },
    {
      "cell_type": "markdown",
      "metadata": {
        "id": "Y8glL9qnEQ1l"
      },
      "source": [
        "# Ну и наконец тренировка!\n",
        "\n",
        "Добейтесь значения ошибки меньше **8.0**."
      ]
    },
    {
      "cell_type": "code",
      "metadata": {
        "id": "SOLkKFOOEQ1l",
        "colab": {
          "base_uri": "https://localhost:8080/"
        },
        "outputId": "877ba8f3-edc8-4707-d47c-28d08cb50391"
      },
      "source": [
        "# Finally, let's train the model!\n",
        "\n",
        "# TODO: We use placeholder values for hyperparameters - you will need to find better values!\n",
        "optimizer = optim.SGD(nn_model.parameters(), lr=22e-2, weight_decay=0)\n",
        "scheduler = optim.lr_scheduler.StepLR(optimizer, step_size=10, gamma=0.1)\n",
        "train_loader = torch.utils.data.DataLoader(dataset, batch_size=14)\n",
        "#КУДА РАБОТАЙ!!!! ТЕБЯ УЖЕ 1 РАЗ ВКЛЮЧИЛИ!!!!\n",
        "#cuda = \"cuda:0\"\n",
        "#device = torch.device(cude) # Let's make sure GPU is available!\n",
        "device\n",
        "nn_model=nn_model.to(device)\n",
        "loss_history, train_history = train_model(nn_model, dataset, train_loader, optimizer, scheduler, 20)"
      ],
      "execution_count": null,
      "outputs": [
        {
          "output_type": "stream",
          "text": [
            "Epoch 0, Average loss: 9.808835, Train accuracy: 0.005283\n",
            "Epoch 1, Average loss: 9.649967, Train accuracy: 0.005438\n",
            "Epoch 2, Average loss: 9.445754, Train accuracy: 0.005333\n",
            "Epoch 3, Average loss: 9.285900, Train accuracy: 0.005529\n",
            "Epoch 4, Average loss: 9.138189, Train accuracy: 0.006239\n",
            "Epoch 5, Average loss: 8.970345, Train accuracy: 0.008608\n",
            "Epoch 6, Average loss: 8.783996, Train accuracy: 0.012526\n",
            "Epoch 7, Average loss: 8.598095, Train accuracy: 0.017739\n",
            "Epoch 8, Average loss: 8.426422, Train accuracy: 0.023110\n",
            "Epoch 9, Average loss: 8.273846, Train accuracy: 0.027565\n",
            "Epoch 10, Average loss: 8.154571, Train accuracy: 0.031313\n",
            "Epoch 11, Average loss: 8.147629, Train accuracy: 0.031645\n",
            "Epoch 12, Average loss: 8.139925, Train accuracy: 0.031981\n",
            "Epoch 13, Average loss: 8.130667, Train accuracy: 0.032235\n",
            "Epoch 14, Average loss: 8.119936, Train accuracy: 0.032528\n",
            "Epoch 15, Average loss: 8.109662, Train accuracy: 0.032751\n",
            "Epoch 16, Average loss: 8.097436, Train accuracy: 0.033008\n",
            "Epoch 17, Average loss: 8.084307, Train accuracy: 0.033262\n",
            "Epoch 18, Average loss: 8.070521, Train accuracy: 0.033653\n",
            "Epoch 19, Average loss: 8.055997, Train accuracy: 0.034023\n"
          ],
          "name": "stdout"
        }
      ]
    },
    {
      "cell_type": "code",
      "metadata": {
        "colab": {
          "base_uri": "https://localhost:8080/"
        },
        "id": "c6OD6IIWz5DZ",
        "outputId": "f47e9752-5212-4f57-a7d7-41962b696813"
      },
      "source": [
        "nn_model_1 = nn.Sequential(\n",
        "            nn.Linear(dataset.num_tokens, wordvec_dim, bias=False),\n",
        "            nn.Linear(wordvec_dim, dataset.num_tokens, bias=False), \n",
        "         )\n",
        "nn_model_1.type(torch.FloatTensor)\n",
        "optimizer = optim.SGD(nn_model_1.parameters(), lr=2e-1, weight_decay=0)\n",
        "scheduler = optim.lr_scheduler.StepLR(optimizer, step_size=5, gamma=0.1)\n",
        "train_loader = torch.utils.data.DataLoader(dataset, batch_size = 20)\n",
        "device\n",
        "nn_model_1=nn_model_1.to(device)\n",
        "loss_history, train_history = train_model(nn_model_1, dataset, train_loader, optimizer, scheduler, 10)"
      ],
      "execution_count": 17,
      "outputs": [
        {
          "output_type": "stream",
          "text": [
            "Epoch 0, Average loss: 9.814774, Train accuracy: 0.003233\n",
            "Epoch 1, Average loss: 9.350996, Train accuracy: 0.004067\n",
            "Epoch 2, Average loss: 8.932399, Train accuracy: 0.008567\n",
            "Epoch 3, Average loss: 8.486465, Train accuracy: 0.020385\n",
            "Epoch 4, Average loss: 8.161997, Train accuracy: 0.029552\n",
            "Epoch 5, Average loss: 7.987215, Train accuracy: 0.034619\n",
            "Epoch 6, Average loss: 7.960184, Train accuracy: 0.035312\n",
            "Epoch 7, Average loss: 7.937709, Train accuracy: 0.035768\n",
            "Epoch 8, Average loss: 7.916523, Train accuracy: 0.036169\n",
            "Epoch 9, Average loss: 7.895815, Train accuracy: 0.036653\n"
          ],
          "name": "stdout"
        }
      ]
    },
    {
      "cell_type": "code",
      "metadata": {
        "id": "cFU-Pt2v0BKf"
      },
      "source": [
        ""
      ],
      "execution_count": null,
      "outputs": []
    },
    {
      "cell_type": "code",
      "metadata": {
        "id": "N_lmo2P9EQ1l",
        "colab": {
          "base_uri": "https://localhost:8080/",
          "height": 282
        },
        "outputId": "2efe88ce-3160-44a5-f997-de9546bb2b65"
      },
      "source": [
        "# Visualize training graphs\n",
        "plt.subplot(211)\n",
        "plt.plot(train_history)\n",
        "plt.subplot(212)\n",
        "plt.plot(loss_history)"
      ],
      "execution_count": 18,
      "outputs": [
        {
          "output_type": "execute_result",
          "data": {
            "text/plain": [
              "[<matplotlib.lines.Line2D at 0x7fc3124cf7d0>]"
            ]
          },
          "metadata": {
            "tags": []
          },
          "execution_count": 18
        },
        {
          "output_type": "display_data",
          "data": {
            "image/png": "[encoded data removed]",
            "text/plain": [
              "<Figure size 432x288 with 2 Axes>"
            ]
          },
          "metadata": {
            "tags": [],
            "needs_background": "light"
          }
        }
      ]
    },
    {
      "cell_type": "markdown",
      "metadata": {
        "id": "lDNHwydwEQ1m"
      },
      "source": [
        "# Визуализируем вектора для разного вида слов до и после тренировки\n",
        "\n",
        "В случае успешной тренировки вы должны увидеть как вектора слов разных типов (например, знаков препинания, предлогов и остальных) разделяются семантически.\n",
        "\n",
        "Студенты - в качестве выполненного задания присылайте notebook с диаграммами!"
      ]
    },
    {
      "cell_type": "code",
      "metadata": {
        "id": "wbeNJngeXSRq"
      },
      "source": [
        "def extract_word_vectors(nn_model_1):\n",
        "    '''\n",
        "    Extracts word vectors from the model\n",
        "    \n",
        "    Returns:\n",
        "    input_vectors: torch.Tensor with dimensions (num_tokens, num_dimensions)\n",
        "    output_vectors: torch.Tensor with dimensions (num_tokens, num_dimensions)\n",
        "    '''\n",
        "    weights = list()\n",
        "    for layer in nn_model_1.children():\n",
        "        parameter = list(layer.parameters())\n",
        "        weights.append(parameter[0])\n",
        "    return weights[0].T, weights[1]\n"
      ],
      "execution_count": 10,
      "outputs": []
    },
    {
      "cell_type": "code",
      "metadata": {
        "colab": {
          "base_uri": "https://localhost:8080/"
        },
        "id": "kORBBAw5XSbH",
        "outputId": "84d0ef23-7cdb-46ac-b1ec-cb6e8342622b"
      },
      "source": [
        "nn_model_1 = nn.Sequential(\n",
        "            nn.Linear(dataset.num_tokens, wordvec_dim, bias=False),\n",
        "            nn.Linear(wordvec_dim, dataset.num_tokens, bias=False), \n",
        "         )\n",
        "nn_model_1.type(torch.FloatTensor)\n",
        "\n",
        "untrained_input_vectors, untrained_output_vectors = extract_word_vectors(nn_model_1)\n",
        "assert untrained_input_vectors.shape == (data.num_tokens(), wordvec_dim)\n",
        "assert untrained_output_vectors.shape == (data.num_tokens(), wordvec_dim)\n",
        "optimizer = optim.SGD(nn_model_1.parameters(), lr=2e-1, weight_decay=0)\n",
        "scheduler = optim.lr_scheduler.StepLR(optimizer, step_size=5, gamma=0.1)\n",
        "train_loader = torch.utils.data.DataLoader(dataset, batch_size = 20)\n",
        "device\n",
        "nn_model_1=nn_model_1.to(device)\n",
        "loss_history, train_history = train_model(nn_model_1, dataset, train_loader, optimizer, scheduler, 7)"
      ],
      "execution_count": 11,
      "outputs": [
        {
          "output_type": "stream",
          "text": [
            "Epoch 0, Average loss: 9.880112, Train accuracy: 0.000411\n",
            "Epoch 1, Average loss: 9.874535, Train accuracy: 0.001832\n",
            "Epoch 2, Average loss: 9.868180, Train accuracy: 0.003000\n",
            "Epoch 3, Average loss: 9.858971, Train accuracy: 0.004332\n",
            "Epoch 4, Average loss: 9.836138, Train accuracy: 0.005547\n",
            "Epoch 5, Average loss: 9.804472, Train accuracy: 0.005830\n",
            "Epoch 6, Average loss: 9.797340, Train accuracy: 0.005600\n"
          ],
          "name": "stdout"
        }
      ]
    },
    {
      "cell_type": "code",
      "metadata": {
        "colab": {
          "base_uri": "https://localhost:8080/",
          "height": 321
        },
        "id": "sm1zYwfiXePF",
        "outputId": "1227f5b7-00b0-49a4-f1d9-5b0b5c99a8eb"
      },
      "source": [
        "# Visualize training graphs\n",
        "optimizer = optim.SGD(nn_model.parameters(), lr=15e-2, weight_decay=0)\n",
        "loss_history_, train_history_ = train_model(nn_model_1, dataset, train_loader, optimizer, scheduler, 2)"
      ],
      "execution_count": 14,
      "outputs": [
        {
          "output_type": "stream",
          "text": [
            "Epoch 0, Average loss: 9.793394, Train accuracy: 0.005479\n",
            "Epoch 1, Average loss: 9.795224, Train accuracy: 0.005296\n"
          ],
          "name": "stdout"
        },
        {
          "output_type": "execute_result",
          "data": {
            "text/plain": [
              "[<matplotlib.lines.Line2D at 0x7f8633b8f390>]"
            ]
          },
          "metadata": {
            "tags": []
          },
          "execution_count": 14
        },
        {
          "output_type": "display_data",
          "data": {
            "image/png": "[encoded data removed]",
            "text/plain": [
              "<Figure size 432x288 with 2 Axes>"
            ]
          },
          "metadata": {
            "tags": [],
            "needs_background": "light"
          }
        }
      ]
    },
    {
      "cell_type": "code",
      "metadata": {
        "colab": {
          "base_uri": "https://localhost:8080/",
          "height": 476
        },
        "id": "aHQg6w-rvYvJ",
        "outputId": "4d29cc0e-49cf-4f3a-f215-4565e8513c8a"
      },
      "source": [
        "optimizer = optim.SGD(nn_model.parameters(), lr=22e-2, weight_decay=0)\n",
        "scheduler = optim.lr_scheduler.StepLR(optimizer, step_size=10, gamma=0.1)\n",
        "loss_history_2, train_history_2 = train_model(nn_model_1, dataset, train_loader, optimizer, scheduler, 10)\n",
        "plt.subplot(211)\n",
        "plt.plot([*train_history , *train_history_, *train_history_2])\n",
        "plt.subplot(212)\n",
        "plt.plot([*loss_history , *loss_history_, *loss_history_2])"
      ],
      "execution_count": 15,
      "outputs": [
        {
          "output_type": "stream",
          "text": [
            "Epoch 0, Average loss: 9.796804, Train accuracy: 0.005124\n",
            "Epoch 1, Average loss: 9.798226, Train accuracy: 0.004987\n",
            "Epoch 2, Average loss: 9.799399, Train accuracy: 0.004867\n",
            "Epoch 3, Average loss: 9.800376, Train accuracy: 0.004754\n",
            "Epoch 4, Average loss: 9.801334, Train accuracy: 0.004669\n"
          ],
          "name": "stdout"
        },
        {
          "output_type": "error",
          "ename": "KeyboardInterrupt",
          "evalue": "ignored",
          "traceback": [
            "\u001b[0;31m---------------------------------------------------------------------------\u001b[0m",
            "\u001b[0;31mKeyboardInterrupt\u001b[0m                         Traceback (most recent call last)",
            "\u001b[0;32m<ipython-input-15-1736809c7498>\u001b[0m in \u001b[0;36m<module>\u001b[0;34m()\u001b[0m\n\u001b[1;32m      1\u001b[0m \u001b[0moptimizer\u001b[0m \u001b[0;34m=\u001b[0m \u001b[0moptim\u001b[0m\u001b[0;34m.\u001b[0m\u001b[0mSGD\u001b[0m\u001b[0;34m(\u001b[0m\u001b[0mnn_model\u001b[0m\u001b[0;34m.\u001b[0m\u001b[0mparameters\u001b[0m\u001b[0;34m(\u001b[0m\u001b[0;34m)\u001b[0m\u001b[0;34m,\u001b[0m \u001b[0mlr\u001b[0m\u001b[0;34m=\u001b[0m\u001b[0;36m22e-2\u001b[0m\u001b[0;34m,\u001b[0m \u001b[0mweight_decay\u001b[0m\u001b[0;34m=\u001b[0m\u001b[0;36m0\u001b[0m\u001b[0;34m)\u001b[0m\u001b[0;34m\u001b[0m\u001b[0;34m\u001b[0m\u001b[0m\n\u001b[1;32m      2\u001b[0m \u001b[0mscheduler\u001b[0m \u001b[0;34m=\u001b[0m \u001b[0moptim\u001b[0m\u001b[0;34m.\u001b[0m\u001b[0mlr_scheduler\u001b[0m\u001b[0;34m.\u001b[0m\u001b[0mStepLR\u001b[0m\u001b[0;34m(\u001b[0m\u001b[0moptimizer\u001b[0m\u001b[0;34m,\u001b[0m \u001b[0mstep_size\u001b[0m\u001b[0;34m=\u001b[0m\u001b[0;36m10\u001b[0m\u001b[0;34m,\u001b[0m \u001b[0mgamma\u001b[0m\u001b[0;34m=\u001b[0m\u001b[0;36m0.1\u001b[0m\u001b[0;34m)\u001b[0m\u001b[0;34m\u001b[0m\u001b[0;34m\u001b[0m\u001b[0m\n\u001b[0;32m----> 3\u001b[0;31m \u001b[0mloss_history_2\u001b[0m\u001b[0;34m,\u001b[0m \u001b[0mtrain_history_2\u001b[0m \u001b[0;34m=\u001b[0m \u001b[0mtrain_model\u001b[0m\u001b[0;34m(\u001b[0m\u001b[0mnn_model_1\u001b[0m\u001b[0;34m,\u001b[0m \u001b[0mdataset\u001b[0m\u001b[0;34m,\u001b[0m \u001b[0mtrain_loader\u001b[0m\u001b[0;34m,\u001b[0m \u001b[0moptimizer\u001b[0m\u001b[0;34m,\u001b[0m \u001b[0mscheduler\u001b[0m\u001b[0;34m,\u001b[0m \u001b[0;36m10\u001b[0m\u001b[0;34m)\u001b[0m\u001b[0;34m\u001b[0m\u001b[0;34m\u001b[0m\u001b[0m\n\u001b[0m\u001b[1;32m      4\u001b[0m \u001b[0mplt\u001b[0m\u001b[0;34m.\u001b[0m\u001b[0msubplot\u001b[0m\u001b[0;34m(\u001b[0m\u001b[0;36m211\u001b[0m\u001b[0;34m)\u001b[0m\u001b[0;34m\u001b[0m\u001b[0;34m\u001b[0m\u001b[0m\n\u001b[1;32m      5\u001b[0m \u001b[0mplt\u001b[0m\u001b[0;34m.\u001b[0m\u001b[0mplot\u001b[0m\u001b[0;34m(\u001b[0m\u001b[0;34m[\u001b[0m\u001b[0;34m*\u001b[0m\u001b[0mtrain_history\u001b[0m \u001b[0;34m,\u001b[0m \u001b[0;34m*\u001b[0m\u001b[0mtrain_history_\u001b[0m\u001b[0;34m,\u001b[0m \u001b[0;34m*\u001b[0m\u001b[0mtrain_history_2\u001b[0m\u001b[0;34m]\u001b[0m\u001b[0;34m)\u001b[0m\u001b[0;34m\u001b[0m\u001b[0;34m\u001b[0m\u001b[0m\n",
            "\u001b[0;32m<ipython-input-9-1b3c07cee5e9>\u001b[0m in \u001b[0;36mtrain_model\u001b[0;34m(model, dataset, train_loader, optimizer, scheduler, num_epochs)\u001b[0m\n\u001b[1;32m     32\u001b[0m             \u001b[0mloss_value\u001b[0m \u001b[0;34m=\u001b[0m \u001b[0mloss\u001b[0m\u001b[0;34m(\u001b[0m\u001b[0mprediction\u001b[0m\u001b[0;34m,\u001b[0m \u001b[0my_gpu\u001b[0m\u001b[0;34m)\u001b[0m\u001b[0;34m\u001b[0m\u001b[0;34m\u001b[0m\u001b[0m\n\u001b[1;32m     33\u001b[0m             \u001b[0moptimizer\u001b[0m\u001b[0;34m.\u001b[0m\u001b[0mzero_grad\u001b[0m\u001b[0;34m(\u001b[0m\u001b[0;34m)\u001b[0m\u001b[0;34m\u001b[0m\u001b[0;34m\u001b[0m\u001b[0m\n\u001b[0;32m---> 34\u001b[0;31m             \u001b[0mloss_value\u001b[0m\u001b[0;34m.\u001b[0m\u001b[0mbackward\u001b[0m\u001b[0;34m(\u001b[0m\u001b[0;34m)\u001b[0m\u001b[0;34m\u001b[0m\u001b[0;34m\u001b[0m\u001b[0m\n\u001b[0m\u001b[1;32m     35\u001b[0m             \u001b[0moptimizer\u001b[0m\u001b[0;34m.\u001b[0m\u001b[0mstep\u001b[0m\u001b[0;34m(\u001b[0m\u001b[0;34m)\u001b[0m\u001b[0;34m\u001b[0m\u001b[0;34m\u001b[0m\u001b[0m\n\u001b[1;32m     36\u001b[0m             \u001b[0m_\u001b[0m\u001b[0;34m,\u001b[0m \u001b[0mindices\u001b[0m \u001b[0;34m=\u001b[0m \u001b[0mtorch\u001b[0m\u001b[0;34m.\u001b[0m\u001b[0mmax\u001b[0m\u001b[0;34m(\u001b[0m\u001b[0mprediction\u001b[0m\u001b[0;34m,\u001b[0m \u001b[0;36m1\u001b[0m\u001b[0;34m)\u001b[0m\u001b[0;34m\u001b[0m\u001b[0;34m\u001b[0m\u001b[0m\n",
            "\u001b[0;32m/usr/local/lib/python3.7/dist-packages/torch/tensor.py\u001b[0m in \u001b[0;36mbackward\u001b[0;34m(self, gradient, retain_graph, create_graph, inputs)\u001b[0m\n\u001b[1;32m    243\u001b[0m                 \u001b[0mcreate_graph\u001b[0m\u001b[0;34m=\u001b[0m\u001b[0mcreate_graph\u001b[0m\u001b[0;34m,\u001b[0m\u001b[0;34m\u001b[0m\u001b[0;34m\u001b[0m\u001b[0m\n\u001b[1;32m    244\u001b[0m                 inputs=inputs)\n\u001b[0;32m--> 245\u001b[0;31m         \u001b[0mtorch\u001b[0m\u001b[0;34m.\u001b[0m\u001b[0mautograd\u001b[0m\u001b[0;34m.\u001b[0m\u001b[0mbackward\u001b[0m\u001b[0;34m(\u001b[0m\u001b[0mself\u001b[0m\u001b[0;34m,\u001b[0m \u001b[0mgradient\u001b[0m\u001b[0;34m,\u001b[0m \u001b[0mretain_graph\u001b[0m\u001b[0;34m,\u001b[0m \u001b[0mcreate_graph\u001b[0m\u001b[0;34m,\u001b[0m \u001b[0minputs\u001b[0m\u001b[0;34m=\u001b[0m\u001b[0minputs\u001b[0m\u001b[0;34m)\u001b[0m\u001b[0;34m\u001b[0m\u001b[0;34m\u001b[0m\u001b[0m\n\u001b[0m\u001b[1;32m    246\u001b[0m \u001b[0;34m\u001b[0m\u001b[0m\n\u001b[1;32m    247\u001b[0m     \u001b[0;32mdef\u001b[0m \u001b[0mregister_hook\u001b[0m\u001b[0;34m(\u001b[0m\u001b[0mself\u001b[0m\u001b[0;34m,\u001b[0m \u001b[0mhook\u001b[0m\u001b[0;34m)\u001b[0m\u001b[0;34m:\u001b[0m\u001b[0;34m\u001b[0m\u001b[0;34m\u001b[0m\u001b[0m\n",
            "\u001b[0;32m/usr/local/lib/python3.7/dist-packages/torch/autograd/__init__.py\u001b[0m in \u001b[0;36mbackward\u001b[0;34m(tensors, grad_tensors, retain_graph, create_graph, grad_variables, inputs)\u001b[0m\n\u001b[1;32m    145\u001b[0m     Variable._execution_engine.run_backward(\n\u001b[1;32m    146\u001b[0m         \u001b[0mtensors\u001b[0m\u001b[0;34m,\u001b[0m \u001b[0mgrad_tensors_\u001b[0m\u001b[0;34m,\u001b[0m \u001b[0mretain_graph\u001b[0m\u001b[0;34m,\u001b[0m \u001b[0mcreate_graph\u001b[0m\u001b[0;34m,\u001b[0m \u001b[0minputs\u001b[0m\u001b[0;34m,\u001b[0m\u001b[0;34m\u001b[0m\u001b[0;34m\u001b[0m\u001b[0m\n\u001b[0;32m--> 147\u001b[0;31m         allow_unreachable=True, accumulate_grad=True)  # allow_unreachable flag\n\u001b[0m\u001b[1;32m    148\u001b[0m \u001b[0;34m\u001b[0m\u001b[0m\n\u001b[1;32m    149\u001b[0m \u001b[0;34m\u001b[0m\u001b[0m\n",
            "\u001b[0;31mKeyboardInterrupt\u001b[0m: "
          ]
        }
      ]
    },
    {
      "cell_type": "code",
      "metadata": {
        "id": "rxD3FSzuEQ1m",
        "colab": {
          "base_uri": "https://localhost:8080/",
          "height": 601
        },
        "outputId": "09911b29-cb1f-41f5-b2a0-c18056c91b8e"
      },
      "source": [
        "# Finally, let's train the model!\n",
        "\n",
        "# TODO: We use placeholder values for hyperparameters - you will need to find better values!\n",
        "optimizer = optim.SGD(nn_model.parameters(), lr=22e-2, weight_decay=0)\n",
        "scheduler = optim.lr_scheduler.StepLR(optimizer, step_size=10, gamma=0.1)\n",
        "train_loader = torch.utils.data.DataLoader(dataset, batch_size=14)\n",
        "#КУДА РАБОТАЙ!!!! ТЕБЯ УЖЕ 1 РАЗ ВКЛЮЧИЛИ!!!!\n",
        "#cuda = \"cuda:0\"\n",
        "#device = torch.device(cude) # Let's make sure GPU is available!\n",
        "device\n",
        "nn_model=nn_model.to(device)\n",
        "loss_history, train_history = train_model(nn_model, dataset, train_loader, optimizer, scheduler, 20)"
      ],
      "execution_count": 24,
      "outputs": [
        {
          "output_type": "stream",
          "text": [
            "Epoch 0, Average loss: 9.879983, Train accuracy: 0.000477\n",
            "Epoch 1, Average loss: 9.873860, Train accuracy: 0.001861\n",
            "Epoch 2, Average loss: 9.866673, Train accuracy: 0.003216\n",
            "Epoch 3, Average loss: 9.855264, Train accuracy: 0.004922\n",
            "Epoch 4, Average loss: 9.821095, Train accuracy: 0.005709\n",
            "Epoch 5, Average loss: 9.715156, Train accuracy: 0.005764\n",
            "Epoch 6, Average loss: 9.544065, Train accuracy: 0.005583\n",
            "Epoch 7, Average loss: 9.385562, Train accuracy: 0.005444\n",
            "Epoch 8, Average loss: 9.253275, Train accuracy: 0.005697\n",
            "Epoch 9, Average loss: 9.117992, Train accuracy: 0.006558\n",
            "Epoch 10, Average loss: 9.016864, Train accuracy: 0.007912\n",
            "Epoch 11, Average loss: 9.007785, Train accuracy: 0.008007\n",
            "Epoch 12, Average loss: 8.996372, Train accuracy: 0.008149\n"
          ],
          "name": "stdout"
        },
        {
          "output_type": "error",
          "ename": "KeyboardInterrupt",
          "evalue": "ignored",
          "traceback": [
            "\u001b[0;31m---------------------------------------------------------------------------\u001b[0m",
            "\u001b[0;31mKeyboardInterrupt\u001b[0m                         Traceback (most recent call last)",
            "\u001b[0;32m<ipython-input-24-ca84b19fa3c1>\u001b[0m in \u001b[0;36m<module>\u001b[0;34m()\u001b[0m\n\u001b[1;32m     10\u001b[0m \u001b[0mdevice\u001b[0m\u001b[0;34m\u001b[0m\u001b[0;34m\u001b[0m\u001b[0m\n\u001b[1;32m     11\u001b[0m \u001b[0mnn_model\u001b[0m\u001b[0;34m=\u001b[0m\u001b[0mnn_model\u001b[0m\u001b[0;34m.\u001b[0m\u001b[0mto\u001b[0m\u001b[0;34m(\u001b[0m\u001b[0mdevice\u001b[0m\u001b[0;34m)\u001b[0m\u001b[0;34m\u001b[0m\u001b[0;34m\u001b[0m\u001b[0m\n\u001b[0;32m---> 12\u001b[0;31m \u001b[0mloss_history\u001b[0m\u001b[0;34m,\u001b[0m \u001b[0mtrain_history\u001b[0m \u001b[0;34m=\u001b[0m \u001b[0mtrain_model\u001b[0m\u001b[0;34m(\u001b[0m\u001b[0mnn_model\u001b[0m\u001b[0;34m,\u001b[0m \u001b[0mdataset\u001b[0m\u001b[0;34m,\u001b[0m \u001b[0mtrain_loader\u001b[0m\u001b[0;34m,\u001b[0m \u001b[0moptimizer\u001b[0m\u001b[0;34m,\u001b[0m \u001b[0mscheduler\u001b[0m\u001b[0;34m,\u001b[0m \u001b[0;36m20\u001b[0m\u001b[0;34m)\u001b[0m\u001b[0;34m\u001b[0m\u001b[0;34m\u001b[0m\u001b[0m\n\u001b[0m",
            "\u001b[0;32m<ipython-input-23-1b3c07cee5e9>\u001b[0m in \u001b[0;36mtrain_model\u001b[0;34m(model, dataset, train_loader, optimizer, scheduler, num_epochs)\u001b[0m\n\u001b[1;32m     32\u001b[0m             \u001b[0mloss_value\u001b[0m \u001b[0;34m=\u001b[0m \u001b[0mloss\u001b[0m\u001b[0;34m(\u001b[0m\u001b[0mprediction\u001b[0m\u001b[0;34m,\u001b[0m \u001b[0my_gpu\u001b[0m\u001b[0;34m)\u001b[0m\u001b[0;34m\u001b[0m\u001b[0;34m\u001b[0m\u001b[0m\n\u001b[1;32m     33\u001b[0m             \u001b[0moptimizer\u001b[0m\u001b[0;34m.\u001b[0m\u001b[0mzero_grad\u001b[0m\u001b[0;34m(\u001b[0m\u001b[0;34m)\u001b[0m\u001b[0;34m\u001b[0m\u001b[0;34m\u001b[0m\u001b[0m\n\u001b[0;32m---> 34\u001b[0;31m             \u001b[0mloss_value\u001b[0m\u001b[0;34m.\u001b[0m\u001b[0mbackward\u001b[0m\u001b[0;34m(\u001b[0m\u001b[0;34m)\u001b[0m\u001b[0;34m\u001b[0m\u001b[0;34m\u001b[0m\u001b[0m\n\u001b[0m\u001b[1;32m     35\u001b[0m             \u001b[0moptimizer\u001b[0m\u001b[0;34m.\u001b[0m\u001b[0mstep\u001b[0m\u001b[0;34m(\u001b[0m\u001b[0;34m)\u001b[0m\u001b[0;34m\u001b[0m\u001b[0;34m\u001b[0m\u001b[0m\n\u001b[1;32m     36\u001b[0m             \u001b[0m_\u001b[0m\u001b[0;34m,\u001b[0m \u001b[0mindices\u001b[0m \u001b[0;34m=\u001b[0m \u001b[0mtorch\u001b[0m\u001b[0;34m.\u001b[0m\u001b[0mmax\u001b[0m\u001b[0;34m(\u001b[0m\u001b[0mprediction\u001b[0m\u001b[0;34m,\u001b[0m \u001b[0;36m1\u001b[0m\u001b[0;34m)\u001b[0m\u001b[0;34m\u001b[0m\u001b[0;34m\u001b[0m\u001b[0m\n",
            "\u001b[0;32m/usr/local/lib/python3.7/dist-packages/torch/tensor.py\u001b[0m in \u001b[0;36mbackward\u001b[0;34m(self, gradient, retain_graph, create_graph, inputs)\u001b[0m\n\u001b[1;32m    243\u001b[0m                 \u001b[0mcreate_graph\u001b[0m\u001b[0;34m=\u001b[0m\u001b[0mcreate_graph\u001b[0m\u001b[0;34m,\u001b[0m\u001b[0;34m\u001b[0m\u001b[0;34m\u001b[0m\u001b[0m\n\u001b[1;32m    244\u001b[0m                 inputs=inputs)\n\u001b[0;32m--> 245\u001b[0;31m         \u001b[0mtorch\u001b[0m\u001b[0;34m.\u001b[0m\u001b[0mautograd\u001b[0m\u001b[0;34m.\u001b[0m\u001b[0mbackward\u001b[0m\u001b[0;34m(\u001b[0m\u001b[0mself\u001b[0m\u001b[0;34m,\u001b[0m \u001b[0mgradient\u001b[0m\u001b[0;34m,\u001b[0m \u001b[0mretain_graph\u001b[0m\u001b[0;34m,\u001b[0m \u001b[0mcreate_graph\u001b[0m\u001b[0;34m,\u001b[0m \u001b[0minputs\u001b[0m\u001b[0;34m=\u001b[0m\u001b[0minputs\u001b[0m\u001b[0;34m)\u001b[0m\u001b[0;34m\u001b[0m\u001b[0;34m\u001b[0m\u001b[0m\n\u001b[0m\u001b[1;32m    246\u001b[0m \u001b[0;34m\u001b[0m\u001b[0m\n\u001b[1;32m    247\u001b[0m     \u001b[0;32mdef\u001b[0m \u001b[0mregister_hook\u001b[0m\u001b[0;34m(\u001b[0m\u001b[0mself\u001b[0m\u001b[0;34m,\u001b[0m \u001b[0mhook\u001b[0m\u001b[0;34m)\u001b[0m\u001b[0;34m:\u001b[0m\u001b[0;34m\u001b[0m\u001b[0;34m\u001b[0m\u001b[0m\n",
            "\u001b[0;32m/usr/local/lib/python3.7/dist-packages/torch/autograd/__init__.py\u001b[0m in \u001b[0;36mbackward\u001b[0;34m(tensors, grad_tensors, retain_graph, create_graph, grad_variables, inputs)\u001b[0m\n\u001b[1;32m    145\u001b[0m     Variable._execution_engine.run_backward(\n\u001b[1;32m    146\u001b[0m         \u001b[0mtensors\u001b[0m\u001b[0;34m,\u001b[0m \u001b[0mgrad_tensors_\u001b[0m\u001b[0;34m,\u001b[0m \u001b[0mretain_graph\u001b[0m\u001b[0;34m,\u001b[0m \u001b[0mcreate_graph\u001b[0m\u001b[0;34m,\u001b[0m \u001b[0minputs\u001b[0m\u001b[0;34m,\u001b[0m\u001b[0;34m\u001b[0m\u001b[0;34m\u001b[0m\u001b[0m\n\u001b[0;32m--> 147\u001b[0;31m         allow_unreachable=True, accumulate_grad=True)  # allow_unreachable flag\n\u001b[0m\u001b[1;32m    148\u001b[0m \u001b[0;34m\u001b[0m\u001b[0m\n\u001b[1;32m    149\u001b[0m \u001b[0;34m\u001b[0m\u001b[0m\n",
            "\u001b[0;31mKeyboardInterrupt\u001b[0m: "
          ]
        }
      ]
    },
    {
      "cell_type": "code",
      "metadata": {
        "colab": {
          "base_uri": "https://localhost:8080/"
        },
        "id": "MDhQpgKl3sQX",
        "outputId": "04ca6b12-6605-42ba-f1e1-fb8e9d13c710"
      },
      "source": [
        "# Finally, let's train the model!\n",
        "\n",
        "# TODO: We use placeholder values for hyperparameters - you will need to find better values!\n",
        "optimizer = optim.SGD(nn_model.parameters(), lr=5.0, weight_decay=0)\n",
        "scheduler = optim.lr_scheduler.StepLR(optimizer, step_size=10, gamma=0.4)\n",
        "train_loader = torch.utils.data.DataLoader(dataset, batch_size=20)\n",
        "#КУДА РАБОТАЙ!!!! ТЕБЯ УЖЕ 1 РАЗ ВКЛЮЧИЛИ!!!!\n",
        "#cuda = \"cuda:0\"\n",
        "#device = torch.device(cude) # Let's make sure GPU is available!\n",
        "device\n",
        "nn_model=nn_model.to(device)\n",
        "loss_history, train_history = train_model(nn_model, dataset, train_loader, optimizer, scheduler, 25)"
      ],
      "execution_count": 8,
      "outputs": [
        {
          "output_type": "stream",
          "text": [
            "Epoch 0, Average loss: 9.776002, Train accuracy: 0.001607\n",
            "Epoch 1, Average loss: 9.291999, Train accuracy: 0.007929\n",
            "Epoch 2, Average loss: 9.079731, Train accuracy: 0.010747\n",
            "Epoch 3, Average loss: 9.045064, Train accuracy: 0.011361\n",
            "Epoch 4, Average loss: 9.031207, Train accuracy: 0.011599\n",
            "Epoch 5, Average loss: 9.027185, Train accuracy: 0.011654\n",
            "Epoch 6, Average loss: 9.022566, Train accuracy: 0.011609\n",
            "Epoch 7, Average loss: 9.018851, Train accuracy: 0.011600\n",
            "Epoch 8, Average loss: 9.017052, Train accuracy: 0.011622\n",
            "Epoch 9, Average loss: 9.014935, Train accuracy: 0.011627\n",
            "Epoch 10, Average loss: 8.184608, Train accuracy: 0.024919\n",
            "Epoch 11, Average loss: 8.051704, Train accuracy: 0.028597\n",
            "Epoch 12, Average loss: 8.034611, Train accuracy: 0.029649\n",
            "Epoch 13, Average loss: 8.027836, Train accuracy: 0.030149\n",
            "Epoch 14, Average loss: 8.024526, Train accuracy: 0.030327\n",
            "Epoch 15, Average loss: 8.022134, Train accuracy: 0.030544\n",
            "Epoch 16, Average loss: 8.021011, Train accuracy: 0.030574\n",
            "Epoch 17, Average loss: 8.019349, Train accuracy: 0.030592\n",
            "Epoch 18, Average loss: 8.019604, Train accuracy: 0.030577\n",
            "Epoch 19, Average loss: 8.019456, Train accuracy: 0.030473\n",
            "Epoch 20, Average loss: 7.578617, Train accuracy: 0.042158\n",
            "Epoch 21, Average loss: 7.516106, Train accuracy: 0.044671\n",
            "Epoch 22, Average loss: 7.503037, Train accuracy: 0.046145\n",
            "Epoch 23, Average loss: 7.497177, Train accuracy: 0.047369\n",
            "Epoch 24, Average loss: 7.492982, Train accuracy: 0.048267\n"
          ],
          "name": "stdout"
        }
      ]
    },
    {
      "cell_type": "code",
      "metadata": {
        "colab": {
          "base_uri": "https://localhost:8080/",
          "height": 282
        },
        "id": "3jIkEAVYQju2",
        "outputId": "01bc03e3-c2c1-424b-ec7d-5317f7e70da9"
      },
      "source": [
        "plt.subplot(211)\n",
        "plt.plot(train_history)\n",
        "plt.subplot(212)\n",
        "plt.plot(loss_history)"
      ],
      "execution_count": 16,
      "outputs": [
        {
          "output_type": "execute_result",
          "data": {
            "text/plain": [
              "[<matplotlib.lines.Line2D at 0x7fe7255559d0>]"
            ]
          },
          "metadata": {
            "tags": []
          },
          "execution_count": 16
        },
        {
          "output_type": "display_data",
          "data": {
            "image/png": "[encoded data removed]",
            "text/plain": [
              "<Figure size 432x288 with 2 Axes>"
            ]
          },
          "metadata": {
            "tags": [],
            "needs_background": "light"
          }
        }
      ]
    },
    {
      "cell_type": "code",
      "metadata": {
        "id": "DdGiXVySEQ1m",
        "colab": {
          "base_uri": "https://localhost:8080/",
          "height": 941
        },
        "outputId": "4d40523e-3fb5-4e99-cb96-39f35921d34e"
      },
      "source": [
        "trained_input_vectors, trained_output_vectors = extract_word_vectors(nn_model)\n",
        "assert trained_input_vectors.shape == (data.num_tokens(), wordvec_dim)\n",
        "assert trained_output_vectors.shape == (data.num_tokens(), wordvec_dim)\n",
        "\n",
        "def visualize_vectors(input_vectors, output_vectors, title=''):\n",
        "    full_vectors = torch.cat((input_vectors, output_vectors), 0)\n",
        "    wordvec_embedding = PCA(n_components=2).fit_transform(full_vectors.detach().numpy())\n",
        "\n",
        "    # Helpful words form CS244D example\n",
        "    # http://cs224d.stanford.edu/assignment1/index.html\n",
        "    visualize_words = {'green': [\"the\", \"a\", \"an\"], \n",
        "                      'blue': [\",\", \".\", \"?\", \"!\", \"``\", \"''\", \"--\"], \n",
        "                      'brown': [\"good\", \"great\", \"cool\", \"brilliant\", \"wonderful\", \n",
        "                              \"well\", \"amazing\", \"worth\", \"sweet\", \"enjoyable\"],\n",
        "                      'orange': [\"boring\", \"bad\", \"waste\", \"dumb\", \"annoying\", \"stupid\"],\n",
        "                      'red': ['tell', 'told', 'said', 'say', 'says', 'tells', 'goes', 'go', 'went']\n",
        "                     }\n",
        "\n",
        "    plt.figure(figsize=(7,7))\n",
        "    plt.suptitle(title)\n",
        "    for color, words in visualize_words.items():\n",
        "        points = np.array([wordvec_embedding[data.index_by_token[w]] for w in words])\n",
        "        for i, word in enumerate(words):\n",
        "            plt.text(points[i, 0], points[i, 1], word, color=color,horizontalalignment='center')\n",
        "        plt.scatter(points[:, 0], points[:, 1], c=color, alpha=0.3, s=0.5)\n",
        "#ПОЧЕМУ ТАК? RuntimeError: All input tensors must be on the same device. Received cpu and cuda:0\n",
        "#попытка №20\n",
        "tmp=untrained_input_vectors\n",
        "tmp_2=untrained_output_vectors\n",
        "tmp=tmp.to(device)\n",
        "tmp_2=tmp_2.to(device)\n",
        "visualize_vectors(torch.clone(tmp.cpu()), torch.clone(tmp_2.cpu()), \"Untrained word vectors\")\n",
        "tmp=trained_input_vectors\n",
        "tmp_2=trained_output_vectors\n",
        "tmp=tmp.to(device)\n",
        "tmp_2=tmp_2.to(device)\n",
        "visualize_vectors(torch.clone(tmp.cpu()), torch.clone(tmp_2.cpu()), \"Trained word vectors\")"
      ],
      "execution_count": 25,
      "outputs": [
        {
          "output_type": "display_data",
          "data": {
            "image/png": "[encoded data removed]",
            "text/plain": [
              "<Figure size 504x504 with 1 Axes>"
            ]
          },
          "metadata": {
            "tags": [],
            "needs_background": "light"
          }
        },
        {
          "output_type": "display_data",
          "data": {
            "image/png": "[encoded data removed]",
            "text/plain": [
              "<Figure size 504x504 with 1 Axes>"
            ]
          },
          "metadata": {
            "tags": [],
            "needs_background": "light"
          }
        }
      ]
    }
  ]
}
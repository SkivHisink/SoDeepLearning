{
  "nbformat": 4,
  "nbformat_minor": 0,
  "metadata": {
    "accelerator": "GPU",
    "colab": {
      "name": "PyTorch_CNN.ipynb",
      "provenance": [],
      "collapsed_sections": []
    },
    "kernelspec": {
      "display_name": "Python 3",
      "language": "python",
      "name": "python3"
    },
    "language_info": {
      "codemirror_mode": {
        "name": "ipython",
        "version": 3
      },
      "file_extension": ".py",
      "mimetype": "text/x-python",
      "name": "python",
      "nbconvert_exporter": "python",
      "pygments_lexer": "ipython3",
      "version": "3.7.0"
    }
  },
  "cells": [
    {
      "cell_type": "markdown",
      "metadata": {
        "id": "kQ30x6lOhMay"
      },
      "source": [
        "# Задание 3.2 - сверточные нейронные сети (CNNs) в PyTorch\n",
        "\n",
        "Это упражнение мы буде выполнять в Google Colab - https://colab.research.google.com/  \n",
        "Google Colab позволяет запускать код в notebook в облаке Google, где можно воспользоваться бесплатным GPU!  \n",
        "\n",
        "Авторы курса благодарят компанию Google и надеятся, что праздник не закончится.\n",
        "\n",
        "Туториал по настройке Google Colab:  \n",
        "https://medium.com/deep-learning-turkey/google-colab-free-gpu-tutorial-e113627b9f5d  \n",
        "(Keras инсталлировать не нужно, наш notebook сам установит PyTorch)\n"
      ]
    },
    {
      "cell_type": "code",
      "metadata": {
        "colab": {
          "base_uri": "https://localhost:8080/"
        },
        "id": "FcXBeP1O7cnY",
        "outputId": "37319400-b489-409c-960a-b6176993982c"
      },
      "source": [
        "# Intstall PyTorch and download data\n",
        "!pip3 install torch torchvision\n",
        "\n",
        "!wget -c http://ufldl.stanford.edu/housenumbers/train_32x32.mat http://ufldl.stanford.edu/housenumbers/test_32x32.mat"
      ],
      "execution_count": 2,
      "outputs": [
        {
          "output_type": "stream",
          "text": [
            "Requirement already satisfied: torch in /usr/local/lib/python3.7/dist-packages (1.8.1+cu101)\n",
            "Requirement already satisfied: torchvision in /usr/local/lib/python3.7/dist-packages (0.9.1+cu101)\n",
            "Requirement already satisfied: numpy in /usr/local/lib/python3.7/dist-packages (from torch) (1.19.5)\n",
            "Requirement already satisfied: typing-extensions in /usr/local/lib/python3.7/dist-packages (from torch) (3.7.4.3)\n",
            "Requirement already satisfied: pillow>=4.1.1 in /usr/local/lib/python3.7/dist-packages (from torchvision) (7.1.2)\n",
            "--2021-04-16 19:22:38--  http://ufldl.stanford.edu/housenumbers/train_32x32.mat\n",
            "Resolving ufldl.stanford.edu (ufldl.stanford.edu)... 171.64.68.10\n",
            "Connecting to ufldl.stanford.edu (ufldl.stanford.edu)|171.64.68.10|:80... connected.\n",
            "HTTP request sent, awaiting response... 200 OK\n",
            "Length: 182040794 (174M) [text/plain]\n",
            "Saving to: ‘train_32x32.mat’\n",
            "\n",
            "train_32x32.mat     100%[===================>] 173.61M  36.7MB/s    in 5.9s    \n",
            "\n",
            "2021-04-16 19:22:44 (29.4 MB/s) - ‘train_32x32.mat’ saved [182040794/182040794]\n",
            "\n",
            "--2021-04-16 19:22:44--  http://ufldl.stanford.edu/housenumbers/test_32x32.mat\n",
            "Reusing existing connection to ufldl.stanford.edu:80.\n",
            "HTTP request sent, awaiting response... 200 OK\n",
            "Length: 64275384 (61M) [text/plain]\n",
            "Saving to: ‘test_32x32.mat’\n",
            "\n",
            "test_32x32.mat      100%[===================>]  61.30M  36.8MB/s    in 1.7s    \n",
            "\n",
            "2021-04-16 19:22:46 (36.8 MB/s) - ‘test_32x32.mat’ saved [64275384/64275384]\n",
            "\n",
            "FINISHED --2021-04-16 19:22:46--\n",
            "Total wall clock time: 7.8s\n",
            "Downloaded: 2 files, 235M in 7.6s (31.0 MB/s)\n"
          ],
          "name": "stdout"
        }
      ]
    },
    {
      "cell_type": "code",
      "metadata": {
        "id": "-afwWw-Q85vD"
      },
      "source": [
        "from collections import namedtuple\n",
        "\n",
        "import matplotlib.pyplot as plt\n",
        "import numpy as np\n",
        "import PIL\n",
        "import torch\n",
        "import torch.nn as nn\n",
        "import torch.optim as optim\n",
        "import torchvision.datasets as dset\n",
        "from torch.utils.data.sampler import SubsetRandomSampler\n",
        "\n",
        "from torchvision import transforms"
      ],
      "execution_count": 3,
      "outputs": []
    },
    {
      "cell_type": "code",
      "metadata": {
        "id": "NNU-OD9O9ltP"
      },
      "source": [
        "device = torch.device(\"cuda:0\") # Let's make sure GPU is available!"
      ],
      "execution_count": 4,
      "outputs": []
    },
    {
      "cell_type": "code",
      "metadata": {
        "colab": {
          "base_uri": "https://localhost:8080/",
          "height": 35
        },
        "id": "Tjx1ST8Nhl8g",
        "outputId": "e4f89524-0675-4c1d-f11f-9e23c7d21fa0"
      },
      "source": [
        "import platform\n",
        "platform.machine()"
      ],
      "execution_count": 5,
      "outputs": [
        {
          "output_type": "execute_result",
          "data": {
            "application/vnd.google.colaboratory.intrinsic+json": {
              "type": "string"
            },
            "text/plain": [
              "'x86_64'"
            ]
          },
          "metadata": {
            "tags": []
          },
          "execution_count": 5
        }
      ]
    },
    {
      "cell_type": "code",
      "metadata": {
        "colab": {
          "base_uri": "https://localhost:8080/",
          "height": 35
        },
        "id": "DsITTFTxiiL1",
        "outputId": "bdfcc8ca-bbb3-4b46-e08b-fa9ad6891926"
      },
      "source": [
        "platform.version()"
      ],
      "execution_count": 6,
      "outputs": [
        {
          "output_type": "execute_result",
          "data": {
            "application/vnd.google.colaboratory.intrinsic+json": {
              "type": "string"
            },
            "text/plain": [
              "'#1 SMP Thu Jul 23 08:00:38 PDT 2020'"
            ]
          },
          "metadata": {
            "tags": []
          },
          "execution_count": 6
        }
      ]
    },
    {
      "cell_type": "code",
      "metadata": {
        "colab": {
          "base_uri": "https://localhost:8080/",
          "height": 35
        },
        "id": "klneC0lKijYW",
        "outputId": "e58511c4-abb8-4ad0-9f69-a56f2805e426"
      },
      "source": [
        "platform.platform()"
      ],
      "execution_count": 7,
      "outputs": [
        {
          "output_type": "execute_result",
          "data": {
            "application/vnd.google.colaboratory.intrinsic+json": {
              "type": "string"
            },
            "text/plain": [
              "'Linux-4.19.112+-x86_64-with-Ubuntu-18.04-bionic'"
            ]
          },
          "metadata": {
            "tags": []
          },
          "execution_count": 7
        }
      ]
    },
    {
      "cell_type": "code",
      "metadata": {
        "colab": {
          "base_uri": "https://localhost:8080/"
        },
        "id": "H5nAzIXWinp4",
        "outputId": "51742f05-6b1d-49a1-d4a7-8f12d3f03c31"
      },
      "source": [
        "platform.uname()"
      ],
      "execution_count": 8,
      "outputs": [
        {
          "output_type": "execute_result",
          "data": {
            "text/plain": [
              "uname_result(system='Linux', node='8fe328f2963b', release='4.19.112+', version='#1 SMP Thu Jul 23 08:00:38 PDT 2020', machine='x86_64', processor='x86_64')"
            ]
          },
          "metadata": {
            "tags": []
          },
          "execution_count": 8
        }
      ]
    },
    {
      "cell_type": "code",
      "metadata": {
        "colab": {
          "base_uri": "https://localhost:8080/",
          "height": 35
        },
        "id": "0IyrMrhDisUF",
        "outputId": "294d491b-b4d8-4854-b771-5590bbcc100c"
      },
      "source": [
        "platform.processor()"
      ],
      "execution_count": 9,
      "outputs": [
        {
          "output_type": "execute_result",
          "data": {
            "application/vnd.google.colaboratory.intrinsic+json": {
              "type": "string"
            },
            "text/plain": [
              "'x86_64'"
            ]
          },
          "metadata": {
            "tags": []
          },
          "execution_count": 9
        }
      ]
    },
    {
      "cell_type": "markdown",
      "metadata": {
        "id": "UxQ05XH8hMa5"
      },
      "source": [
        "# Загружаем данные"
      ]
    },
    {
      "cell_type": "code",
      "metadata": {
        "id": "YAvkoRx-9FsP"
      },
      "source": [
        "# First, lets load the dataset\n",
        "data_train = dset.SVHN('./', \n",
        "                       transform=transforms.Compose([\n",
        "                           transforms.ToTensor(),\n",
        "                           transforms.Normalize(mean=[0.43,0.44,0.47],\n",
        "                                               std=[0.20,0.20,0.20])                           \n",
        "                       ])\n",
        "                      )\n",
        "data_test = dset.SVHN('./', split='test', transform=transforms.Compose([\n",
        "                           transforms.ToTensor(),\n",
        "                           transforms.Normalize(mean=[0.43,0.44,0.47],\n",
        "                                               std=[0.20,0.20,0.20])                           \n",
        "                       ]))"
      ],
      "execution_count": 10,
      "outputs": []
    },
    {
      "cell_type": "markdown",
      "metadata": {
        "id": "d4EPu5KOhMa6"
      },
      "source": [
        "Разделяем данные на training и validation.\n",
        "\n",
        "На всякий случай для подробностей - https://pytorch.org/tutorials/beginner/data_loading_tutorial.html"
      ]
    },
    {
      "cell_type": "code",
      "metadata": {
        "id": "YRnr8CPg7Hli"
      },
      "source": [
        "batch_size = 64\n",
        "\n",
        "data_size = data_train.data.shape[0]\n",
        "validation_split = .2\n",
        "split = int(np.floor(validation_split * data_size))\n",
        "indices = list(range(data_size))\n",
        "np.random.shuffle(indices)\n",
        "\n",
        "train_indices, val_indices = indices[split:], indices[:split]\n",
        "\n",
        "train_sampler = SubsetRandomSampler(train_indices)\n",
        "val_sampler = SubsetRandomSampler(val_indices)\n",
        "\n",
        "train_loader = torch.utils.data.DataLoader(data_train, batch_size=batch_size, \n",
        "                                           sampler=train_sampler)\n",
        "val_loader = torch.utils.data.DataLoader(data_train, batch_size=batch_size,\n",
        "                                         sampler=val_sampler)"
      ],
      "execution_count": 11,
      "outputs": []
    },
    {
      "cell_type": "code",
      "metadata": {
        "id": "LyYvt-T67PBG"
      },
      "source": [
        "# We'll use a special helper module to shape it into a flat tensor\n",
        "class Flattener(nn.Module):\n",
        "    def forward(self, x):\n",
        "        batch_size, *_ = x.shape\n",
        "        return x.view(batch_size, -1)"
      ],
      "execution_count": 12,
      "outputs": []
    },
    {
      "cell_type": "markdown",
      "metadata": {
        "id": "zuQ8J4S9hMa6"
      },
      "source": [
        "Создадим простейшую сеть с новыми слоями:  \n",
        "Convolutional - `nn.Conv2d`  \n",
        "MaxPool - `nn.MaxPool2d`"
      ]
    },
    {
      "cell_type": "code",
      "metadata": {
        "id": "w9SFVGZP7SQd"
      },
      "source": [
        "nn_model = nn.Sequential(\n",
        "            nn.Conv2d(3, 64, 3, padding=1),\n",
        "            nn.ReLU(inplace=True),\n",
        "            nn.MaxPool2d(4),\n",
        "            nn.Conv2d(64, 64, 3, padding=1),\n",
        "            nn.ReLU(inplace=True),\n",
        "            nn.MaxPool2d(4),    \n",
        "            Flattener(),\n",
        "            nn.Linear(64*2*2, 10),\n",
        "          )\n",
        "\n",
        "nn_model.type(torch.cuda.FloatTensor)\n",
        "nn_model.to(device)\n",
        "\n",
        "loss = nn.CrossEntropyLoss().type(torch.cuda.FloatTensor)\n",
        "optimizer = optim.SGD(nn_model.parameters(), lr=1e-1, weight_decay=1e-4)"
      ],
      "execution_count": 13,
      "outputs": []
    },
    {
      "cell_type": "markdown",
      "metadata": {
        "id": "nO60RmaUhMa7"
      },
      "source": [
        "Восстановите функцию `compute_accuracy` из прошлого задания.  \n",
        "Единственное отличие в новом - она должна передать данные на GPU прежде чем прогонять через модель. Сделайте это так же, как это делает функция `train_model`"
      ]
    },
    {
      "cell_type": "code",
      "metadata": {
        "colab": {
          "base_uri": "https://localhost:8080/"
        },
        "id": "2ek3KVQK7hJ6",
        "outputId": "2e1c1ec3-4ebb-4a15-ae7c-aea7e3b89997"
      },
      "source": [
        "def train_model(model, train_loader, val_loader, loss, optimizer, num_epochs, scheduler = None):    \n",
        "    loss_history = []\n",
        "    train_history = []\n",
        "    val_history = []\n",
        "    for epoch in range(num_epochs):\n",
        "        model.train() # Enter train mode\n",
        "        \n",
        "        loss_accum = 0\n",
        "        correct_samples = 0\n",
        "        total_samples = 0\n",
        "        for i_step, (x, y) in enumerate(train_loader):\n",
        "          \n",
        "            x_gpu = x.to(device)\n",
        "            y_gpu = y.to(device)\n",
        "            prediction = model(x_gpu)    \n",
        "            loss_value = loss(prediction, y_gpu)\n",
        "            optimizer.zero_grad()\n",
        "            loss_value.backward()\n",
        "            optimizer.step()\n",
        "            \n",
        "            _, indices = torch.max(prediction, 1)\n",
        "            correct_samples += torch.sum(indices == y_gpu)\n",
        "            total_samples += y.shape[0]\n",
        "            \n",
        "            loss_accum += loss_value\n",
        "\n",
        "        ave_loss = loss_accum / i_step\n",
        "        train_accuracy = float(correct_samples) / total_samples\n",
        "        val_accuracy = compute_accuracy(model, val_loader)\n",
        "        if scheduler is not None:\n",
        "            scheduler.step(ave_loss)\n",
        "        loss_history.append(float(ave_loss))\n",
        "        train_history.append(train_accuracy)\n",
        "        val_history.append(val_accuracy)\n",
        "        \n",
        "        print(\"Average loss: %f, Train accuracy: %f, Val accuracy: %f\" % (ave_loss, train_accuracy, val_accuracy))\n",
        "        \n",
        "    return loss_history, train_history, val_history\n",
        "        \n",
        "def compute_accuracy(model, loader):\n",
        "    \"\"\"\n",
        "    Computes accuracy on the dataset wrapped in a loader\n",
        "    \n",
        "    Returns: accuracy as a float value between 0 and 1\n",
        "    \"\"\"\n",
        "    model.eval() # Evaluation mode\n",
        "    correct = 0 \n",
        "    total = 0 \n",
        "    with torch.no_grad():\n",
        "        for i_step, (x, y) in enumerate(loader):\n",
        "                x = x.to(device)\n",
        "                y = y.to(device)\n",
        "                prediction = torch.argmax(model(x) , 1)    \n",
        "                for i in range(len(prediction)):\n",
        "                    if prediction[i] == y[i]:\n",
        "                        correct += 1\n",
        "                total += len(prediction)\n",
        "    return float(correct/total)\n",
        "\n",
        "loss_history, train_history, val_history = train_model(nn_model, train_loader, val_loader, loss, optimizer, 5)"
      ],
      "execution_count": 14,
      "outputs": [
        {
          "output_type": "stream",
          "text": [
            "Average loss: 1.409753, Train accuracy: 0.527523, Val accuracy: 0.768139\n",
            "Average loss: 0.708965, Train accuracy: 0.784698, Val accuracy: 0.798785\n",
            "Average loss: 0.604430, Train accuracy: 0.819097, Val accuracy: 0.805815\n",
            "Average loss: 0.555310, Train accuracy: 0.834300, Val accuracy: 0.826565\n",
            "Average loss: 0.523421, Train accuracy: 0.845016, Val accuracy: 0.826496\n"
          ],
          "name": "stdout"
        }
      ]
    },
    {
      "cell_type": "markdown",
      "metadata": {
        "id": "6a-3a1ZFGEw_"
      },
      "source": [
        "# Аугментация данных (Data augmentation)\n",
        "\n",
        "В работе с изображениями одним из особенно важных методов является аугментация данных - то есть, генерация дополнительных данных для тренировки на основе изначальных.   \n",
        "Таким образом, мы получаем возможность \"увеличить\" набор данных для тренировки, что ведет к лучшей работе сети.\n",
        "Важно, чтобы аугментированные данные были похожи на те, которые могут встретиться в реальной жизни, иначе польза от аугментаций уменьшается и может ухудшить работу сети.\n",
        "\n",
        "С PyTorch идут несколько таких алгоритмов, называемых `transforms`. Более подробно про них можно прочитать тут -\n",
        "https://pytorch.org/tutorials/beginner/data_loading_tutorial.html#transforms\n",
        "\n",
        "Ниже мы используем следующие алгоритмы генерации:\n",
        "- ColorJitter - случайное изменение цвета\n",
        "- RandomHorizontalFlip - горизонтальное отражение с вероятностью 50%\n",
        "- RandomVerticalFlip - вертикальное отражение с вероятностью 50%\n",
        "- RandomRotation - случайный поворот"
      ]
    },
    {
      "cell_type": "code",
      "metadata": {
        "colab": {
          "base_uri": "https://localhost:8080/"
        },
        "id": "jCWMUWmr7t5g",
        "outputId": "deab4e70-08a6-4025-d498-46789e67fc0c"
      },
      "source": [
        "tfs = transforms.Compose([\n",
        "    transforms.ColorJitter(hue=.50, saturation=.50),\n",
        "    transforms.RandomHorizontalFlip(),\n",
        "    transforms.RandomVerticalFlip(),\n",
        "    transforms.RandomRotation(50, resample=PIL.Image.BILINEAR),\n",
        "    transforms.ToTensor(),\n",
        "    transforms.Normalize(mean=[0.43,0.44,0.47],\n",
        "                       std=[0.20,0.20,0.20])                           \n",
        "])\n",
        "\n",
        "# Create augmented train dataset\n",
        "data_aug_train = dset.SVHN('./', \n",
        "                       transform=tfs\n",
        "                      )\n",
        "\n",
        "train_aug_loader = torch.utils.data.DataLoader(data_aug_train, batch_size=batch_size, \n",
        "                                           sampler=train_sampler)"
      ],
      "execution_count": 15,
      "outputs": [
        {
          "output_type": "stream",
          "text": [
            "/usr/local/lib/python3.7/dist-packages/torchvision/transforms/transforms.py:1201: UserWarning: Argument resample is deprecated and will be removed since v0.10.0. Please, use interpolation instead\n",
            "  \"Argument resample is deprecated and will be removed since v0.10.0. Please, use interpolation instead\"\n"
          ],
          "name": "stderr"
        }
      ]
    },
    {
      "cell_type": "markdown",
      "metadata": {
        "id": "hTXC4r7ShMa8"
      },
      "source": [
        "Визуализируем результаты агментации (вообще, смотреть на сгенерированные данные всегда очень полезно)."
      ]
    },
    {
      "cell_type": "code",
      "metadata": {
        "colab": {
          "base_uri": "https://localhost:8080/",
          "height": 135
        },
        "id": "YlJJEro1KZ45",
        "outputId": "1b9cd4c4-58cc-40bd-f777-34c8e48faca3"
      },
      "source": [
        "# TODO: Visualize some augmented images!\n",
        "# hint: you can create new datasets and loaders to accomplish this\n",
        "\n",
        "# Based on the visualizations, should we keep all the augmentations?\n",
        "\n",
        "tfs = transforms.Compose([\n",
        "    transforms.ColorJitter(hue=.20, saturation=.20),\n",
        "    transforms.RandomHorizontalFlip(),\n",
        "    transforms.RandomVerticalFlip(),\n",
        "    transforms.RandomRotation(10, resample=PIL.Image.BILINEAR),\n",
        "])\n",
        "\n",
        "data_aug_vis = dset.SVHN('./', \n",
        "                       transform=tfs\n",
        "                      )\n",
        "\n",
        "plt.figure(figsize=(30, 3))\n",
        "\n",
        "for i, (x, y) in enumerate(data_aug_vis):\n",
        "    if i == 20:\n",
        "        break\n",
        "    plt.subplot(1, 20, i+1)\n",
        "    plt.grid(False)\n",
        "    plt.imshow(x)\n",
        "    plt.axis('off')"
      ],
      "execution_count": 16,
      "outputs": [
        {
          "output_type": "stream",
          "text": [
            "/usr/local/lib/python3.7/dist-packages/torchvision/transforms/transforms.py:1201: UserWarning: Argument resample is deprecated and will be removed since v0.10.0. Please, use interpolation instead\n",
            "  \"Argument resample is deprecated and will be removed since v0.10.0. Please, use interpolation instead\"\n"
          ],
          "name": "stderr"
        },
        {
          "output_type": "display_data",
          "data": {
            "image/png": "[encoded data removed]",
            "text/plain": [
              "<Figure size 2160x216 with 20 Axes>"
            ]
          },
          "metadata": {
            "tags": [],
            "needs_background": "light"
          }
        }
      ]
    },
    {
      "cell_type": "markdown",
      "metadata": {
        "id": "o2LrmsYHoguB"
      },
      "source": [
        "Все ли агментации одинаково полезны на этом наборе данных? Могут ли быть среди них те, которые собьют модель с толку?\n",
        "\n",
        "Выберите из них только корректные"
      ]
    },
    {
      "cell_type": "code",
      "metadata": {
        "id": "evro9ksXGs9u",
        "colab": {
          "base_uri": "https://localhost:8080/"
        },
        "outputId": "910eabf4-8a94-4cd7-be00-9c677b4d31d9"
      },
      "source": [
        "# TODO: \n",
        "tfs = transforms.Compose([\n",
        "    transforms.ColorJitter(hue=.20, saturation=.20),\n",
        "    transforms.RandomHorizontalFlip(),\n",
        "    transforms.RandomVerticalFlip(),\n",
        "    transforms.RandomRotation(10, resample=PIL.Image.BILINEAR),\n",
        "    transforms.ToTensor(),\n",
        "    transforms.Normalize(mean=[0.43,0.44,0.47],\n",
        "                       std=[0.20,0.20,0.20])                           \n",
        "])\n",
        "\n",
        "# TODO create new instances of loaders with the augmentations you chose\n",
        "data_aug_train = dset.SVHN('./', \n",
        "                       transform=tfs\n",
        "                      )\n",
        "\n",
        "train_aug_loader = torch.utils.data.DataLoader(data_aug_train, batch_size=batch_size, \n",
        "                                           sampler=train_sampler)"
      ],
      "execution_count": 17,
      "outputs": [
        {
          "output_type": "stream",
          "text": [
            "/usr/local/lib/python3.7/dist-packages/torchvision/transforms/transforms.py:1201: UserWarning: Argument resample is deprecated and will be removed since v0.10.0. Please, use interpolation instead\n",
            "  \"Argument resample is deprecated and will be removed since v0.10.0. Please, use interpolation instead\"\n"
          ],
          "name": "stderr"
        }
      ]
    },
    {
      "cell_type": "code",
      "metadata": {
        "id": "PeO6Zw0DHqPR",
        "colab": {
          "base_uri": "https://localhost:8080/"
        },
        "outputId": "2f25d88f-7409-4e2e-b08b-c727485f0ac2"
      },
      "source": [
        "# Finally, let's train with augmentations!\n",
        "\n",
        "# Note we shouldn't use augmentations on validation\n",
        "\n",
        "loss_history, train_history, val_history = train_model(nn_model, train_aug_loader, val_loader, loss, optimizer, 5)"
      ],
      "execution_count": 18,
      "outputs": [
        {
          "output_type": "stream",
          "text": [
            "Average loss: 1.514440, Train accuracy: 0.473945, Val accuracy: 0.569176\n",
            "Average loss: 1.293198, Train accuracy: 0.546787, Val accuracy: 0.601119\n",
            "Average loss: 1.219015, Train accuracy: 0.577620, Val accuracy: 0.625282\n",
            "Average loss: 1.179416, Train accuracy: 0.592090, Val accuracy: 0.606989\n",
            "Average loss: 1.145853, Train accuracy: 0.605928, Val accuracy: 0.658249\n"
          ],
          "name": "stdout"
        }
      ]
    },
    {
      "cell_type": "code",
      "metadata": {
        "colab": {
          "base_uri": "https://localhost:8080/"
        },
        "id": "PUY2BYBmrCzU",
        "outputId": "1b82d61d-de3e-474e-ae0d-feaf1ac1a559"
      },
      "source": [
        "# TODO: \n",
        "tfs = transforms.Compose([\n",
        "    transforms.ColorJitter(hue=.20, saturation=.20),\n",
        "    transforms.RandomVerticalFlip(),\n",
        "    transforms.RandomRotation(10, resample=PIL.Image.BILINEAR),\n",
        "    transforms.ToTensor(),\n",
        "    transforms.Normalize(mean=[0.43,0.44,0.47],\n",
        "                       std=[0.20,0.20,0.20])                           \n",
        "])\n",
        "\n",
        "# TODO create new instances of loaders with the augmentations you chose\n",
        "data_aug_train = dset.SVHN('./', \n",
        "                       transform=tfs\n",
        "                      )\n",
        "\n",
        "train_aug_loader = torch.utils.data.DataLoader(data_aug_train, batch_size=batch_size, \n",
        "                                           sampler=train_sampler)\n",
        "\n",
        "\n",
        "loss_history, train_history, val_history = train_model(nn_model, train_aug_loader, val_loader, loss, optimizer, 5)"
      ],
      "execution_count": 19,
      "outputs": [
        {
          "output_type": "stream",
          "text": [
            "/usr/local/lib/python3.7/dist-packages/torchvision/transforms/transforms.py:1201: UserWarning: Argument resample is deprecated and will be removed since v0.10.0. Please, use interpolation instead\n",
            "  \"Argument resample is deprecated and will be removed since v0.10.0. Please, use interpolation instead\"\n"
          ],
          "name": "stderr"
        },
        {
          "output_type": "stream",
          "text": [
            "Average loss: 0.913330, Train accuracy: 0.707061, Val accuracy: 0.700976\n",
            "Average loss: 0.845153, Train accuracy: 0.730249, Val accuracy: 0.771551\n",
            "Average loss: 0.816413, Train accuracy: 0.739071, Val accuracy: 0.762269\n",
            "Average loss: 0.792710, Train accuracy: 0.748985, Val accuracy: 0.760562\n",
            "Average loss: 0.774683, Train accuracy: 0.754650, Val accuracy: 0.776398\n"
          ],
          "name": "stdout"
        }
      ]
    },
    {
      "cell_type": "code",
      "metadata": {
        "colab": {
          "base_uri": "https://localhost:8080/"
        },
        "id": "wp4BzXIyracF",
        "outputId": "12c2c9c6-7e8e-4677-ac4f-d5511687fe3f"
      },
      "source": [
        "# TODO: \n",
        "tfs = transforms.Compose([\n",
        "    transforms.ColorJitter(hue=.20, saturation=.20),\n",
        "    transforms.RandomHorizontalFlip(),\n",
        "    transforms.RandomRotation(10, resample=PIL.Image.BILINEAR),\n",
        "    transforms.ToTensor(),\n",
        "    transforms.Normalize(mean=[0.43,0.44,0.47],\n",
        "                       std=[0.20,0.20,0.20])                           \n",
        "])\n",
        "\n",
        "# TODO create new instances of loaders with the augmentations you chose\n",
        "data_aug_train = dset.SVHN('./', \n",
        "                       transform=tfs\n",
        "                      )\n",
        "\n",
        "train_aug_loader = torch.utils.data.DataLoader(data_aug_train, batch_size=batch_size, \n",
        "                                           sampler=train_sampler)\n",
        "\n",
        "\n",
        "loss_history, train_history, val_history = train_model(nn_model, train_aug_loader, val_loader, loss, optimizer, 5)"
      ],
      "execution_count": 20,
      "outputs": [
        {
          "output_type": "stream",
          "text": [
            "/usr/local/lib/python3.7/dist-packages/torchvision/transforms/transforms.py:1201: UserWarning: Argument resample is deprecated and will be removed since v0.10.0. Please, use interpolation instead\n",
            "  \"Argument resample is deprecated and will be removed since v0.10.0. Please, use interpolation instead\"\n"
          ],
          "name": "stderr"
        },
        {
          "output_type": "stream",
          "text": [
            "Average loss: 0.868316, Train accuracy: 0.721820, Val accuracy: 0.765886\n",
            "Average loss: 0.749668, Train accuracy: 0.761816, Val accuracy: 0.775715\n",
            "Average loss: 0.721797, Train accuracy: 0.773129, Val accuracy: 0.791891\n",
            "Average loss: 0.700903, Train accuracy: 0.779391, Val accuracy: 0.796123\n",
            "Average loss: 0.687858, Train accuracy: 0.781848, Val accuracy: 0.790868\n"
          ],
          "name": "stdout"
        }
      ]
    },
    {
      "cell_type": "code",
      "metadata": {
        "colab": {
          "base_uri": "https://localhost:8080/"
        },
        "id": "lVrWAbbPs0UY",
        "outputId": "18458a5c-f2a1-43ad-fbcb-d932759bd35d"
      },
      "source": [
        "tfs = transforms.Compose([\n",
        "    transforms.ColorJitter(hue=.20, saturation=.20),\n",
        "    transforms.ToTensor(),\n",
        "    transforms.Normalize(mean=[0.43,0.44,0.47],\n",
        "                       std=[0.20,0.20,0.20])                           \n",
        "])\n",
        "\n",
        "# TODO create new instances of loaders with the augmentations you chose\n",
        "data_aug_train = dset.SVHN('./', \n",
        "                       transform=tfs\n",
        "                      )\n",
        "\n",
        "train_aug_loader = torch.utils.data.DataLoader(data_aug_train, batch_size=batch_size, \n",
        "                                           sampler=train_sampler)\n",
        "\n",
        "\n",
        "loss_history, train_history, val_history = train_model(nn_model, train_aug_loader, val_loader, loss, optimizer, 5)"
      ],
      "execution_count": 21,
      "outputs": [
        {
          "output_type": "stream",
          "text": [
            "Average loss: 0.519418, Train accuracy: 0.843685, Val accuracy: 0.840420\n",
            "Average loss: 0.464445, Train accuracy: 0.861448, Val accuracy: 0.833322\n",
            "Average loss: 0.442821, Train accuracy: 0.866788, Val accuracy: 0.860624\n",
            "Average loss: 0.427282, Train accuracy: 0.872419, Val accuracy: 0.865197\n",
            "Average loss: 0.415863, Train accuracy: 0.875729, Val accuracy: 0.872432\n"
          ],
          "name": "stdout"
        }
      ]
    },
    {
      "cell_type": "code",
      "metadata": {
        "colab": {
          "base_uri": "https://localhost:8080/"
        },
        "id": "01DSFee4s4YA",
        "outputId": "857d89b1-415b-4a9b-f3f8-2321059325d4"
      },
      "source": [
        "# TODO: \n",
        "tfs = transforms.Compose([\n",
        "    transforms.RandomRotation(10, resample=PIL.Image.BILINEAR),\n",
        "    transforms.ToTensor(),\n",
        "    transforms.Normalize(mean=[0.43,0.44,0.47],\n",
        "                       std=[0.20,0.20,0.20])                           \n",
        "])\n",
        "\n",
        "# TODO create new instances of loaders with the augmentations you chose\n",
        "data_aug_train = dset.SVHN('./', \n",
        "                       transform=tfs\n",
        "                      )\n",
        "\n",
        "train_aug_loader = torch.utils.data.DataLoader(data_aug_train, batch_size=batch_size, \n",
        "                                           sampler=train_sampler)\n",
        "\n",
        "\n",
        "loss_history, train_history, val_history = train_model(nn_model, train_aug_loader, val_loader, loss, optimizer, 5)"
      ],
      "execution_count": 22,
      "outputs": [
        {
          "output_type": "stream",
          "text": [
            "/usr/local/lib/python3.7/dist-packages/torchvision/transforms/transforms.py:1201: UserWarning: Argument resample is deprecated and will be removed since v0.10.0. Please, use interpolation instead\n",
            "  \"Argument resample is deprecated and will be removed since v0.10.0. Please, use interpolation instead\"\n"
          ],
          "name": "stderr"
        },
        {
          "output_type": "stream",
          "text": [
            "Average loss: 0.455159, Train accuracy: 0.862198, Val accuracy: 0.864651\n",
            "Average loss: 0.440313, Train accuracy: 0.866874, Val accuracy: 0.865879\n",
            "Average loss: 0.434495, Train accuracy: 0.868119, Val accuracy: 0.867518\n",
            "Average loss: 0.428959, Train accuracy: 0.870525, Val accuracy: 0.862740\n",
            "Average loss: 0.424276, Train accuracy: 0.872556, Val accuracy: 0.872568\n"
          ],
          "name": "stdout"
        }
      ]
    },
    {
      "cell_type": "markdown",
      "metadata": {
        "id": "r0bcioK6JBDK"
      },
      "source": [
        "# LeNet\n",
        "Попробуем имплементировать классическую архитектуру сверточной нейронной сети, предложенную Яном ЛеКуном в 1998 году. В свое время она достигла впечатляющих результатов на MNIST, посмотрим как она справится с SVHN?\n",
        "Она описана в статье [\"Gradient Based Learning Applied to Document Recognition\"](http://yann.lecun.com/exdb/publis/pdf/lecun-01a.pdf), попробуйте прочитать ключевые части и имплементировать предложенную архитетуру на PyTorch.\n",
        "\n",
        "Реализовывать слои и функцию ошибки LeNet, которых нет в PyTorch, **не нужно** - просто возьмите их размеры и переведите в уже известные нам Convolutional, Pooling и Fully Connected layers.\n",
        "\n",
        "Если в статье не очень понятно, можно просто погуглить LeNet и разобраться в деталях :)"
      ]
    },
    {
      "cell_type": "code",
      "metadata": {
        "id": "ieEzZUglJAUB"
      },
      "source": [
        "# TODO: Implement LeNet-like architecture for SVHN task\n",
        "lenet_model = nn.Sequential(\n",
        "    nn.Conv2d(in_channels=3, out_channels=6, kernel_size=5, padding=0),\n",
        "    nn.MaxPool2d(kernel_size=2),\n",
        "    nn.BatchNorm2d(6),\n",
        "    nn.ReLU(inplace=True),\n",
        "    nn.Conv2d(in_channels=6, out_channels=16, kernel_size=5, padding=0),\n",
        "    nn.MaxPool2d(kernel_size=2),\n",
        "    nn.BatchNorm2d(16),\n",
        "    nn.ReLU(inplace=True),\n",
        "    Flattener(),\n",
        "    nn.Linear(16*5*5, 120),\n",
        "    nn.BatchNorm1d(120),\n",
        "    nn.ReLU(inplace=True),\n",
        "    nn.Linear(120, 84),\n",
        "    nn.BatchNorm1d(84),\n",
        "    nn.ReLU(inplace=True),\n",
        "    nn.Linear(84, 10),\n",
        "    nn.BatchNorm1d(10))\n",
        "lenet_model.type(torch.cuda.FloatTensor)\n",
        "lenet_model.to(device)\n",
        "loss = nn.CrossEntropyLoss().type(torch.cuda.FloatTensor)\n",
        "optimizer = optim.SGD(lenet_model.parameters(), lr=1e-1, weight_decay=1e-4)"
      ],
      "execution_count": 23,
      "outputs": []
    },
    {
      "cell_type": "code",
      "metadata": {
        "id": "WMmaPfdeKk9H",
        "colab": {
          "base_uri": "https://localhost:8080/"
        },
        "outputId": "d1b4c8fb-6149-4476-d272-d2a51b40c417"
      },
      "source": [
        "# Let's train it!\n",
        "loss_history, train_history, val_history = train_model(lenet_model, train_aug_loader, val_loader, loss, optimizer, 10)"
      ],
      "execution_count": 24,
      "outputs": [
        {
          "output_type": "stream",
          "text": [
            "Average loss: 0.779102, Train accuracy: 0.759786, Val accuracy: 0.864446\n",
            "Average loss: 0.489007, Train accuracy: 0.851227, Val accuracy: 0.883626\n",
            "Average loss: 0.426367, Train accuracy: 0.871122, Val accuracy: 0.894273\n",
            "Average loss: 0.392053, Train accuracy: 0.880644, Val accuracy: 0.894000\n",
            "Average loss: 0.363405, Train accuracy: 0.889721, Val accuracy: 0.902259\n",
            "Average loss: 0.344000, Train accuracy: 0.894823, Val accuracy: 0.903351\n",
            "Average loss: 0.327543, Train accuracy: 0.899413, Val accuracy: 0.907993\n",
            "Average loss: 0.313986, Train accuracy: 0.904293, Val accuracy: 0.908675\n",
            "Average loss: 0.301504, Train accuracy: 0.908491, Val accuracy: 0.910313\n",
            "Average loss: 0.292809, Train accuracy: 0.911579, Val accuracy: 0.911610\n"
          ],
          "name": "stdout"
        }
      ]
    },
    {
      "cell_type": "markdown",
      "metadata": {
        "id": "u_O9qiYySvuj"
      },
      "source": [
        "# Подбор гиперпараметров"
      ]
    },
    {
      "cell_type": "code",
      "metadata": {
        "id": "i6mhfdQ9K-N3",
        "colab": {
          "base_uri": "https://localhost:8080/"
        },
        "outputId": "a336a59d-63cd-4661-ddda-e03212d82dea"
      },
      "source": [
        "# The key hyperparameters we're going to tune are learning speed, annealing rate and regularization\n",
        "# We also encourage you to try different optimizers as well\n",
        "\n",
        "def new_lenet():\n",
        "    return nn.Sequential(\n",
        "    nn.Conv2d(in_channels=3, out_channels=6, kernel_size=5, padding=0),\n",
        "    nn.MaxPool2d(kernel_size=2),\n",
        "    nn.BatchNorm2d(6),\n",
        "    nn.ReLU(inplace=True),\n",
        "    nn.Conv2d(in_channels=6, out_channels=16, kernel_size=5, padding=0),\n",
        "    nn.MaxPool2d(kernel_size=2),\n",
        "    nn.BatchNorm2d(16),\n",
        "    nn.ReLU(inplace=True),\n",
        "    Flattener(),\n",
        "    nn.Linear(16*5*5, 120),\n",
        "    nn.BatchNorm1d(120),\n",
        "    nn.ReLU(inplace=True),\n",
        "    nn.Linear(120, 84),\n",
        "    nn.BatchNorm1d(84),\n",
        "    nn.ReLU(inplace=True),\n",
        "    nn.Linear(84, 10),\n",
        "    nn.BatchNorm1d(10))\n",
        "Hyperparams = namedtuple(\"Hyperparams\", ['learning_rate', 'reg'])\n",
        "RunResult = namedtuple(\"RunResult\", ['model', 'train_history', 'val_history' ,'final_val_accuracy' ])\n",
        "\n",
        "learning_rates = [1e-3, 2e-3, 4e-3, 1e-4, 2e-4, 3e-4]\n",
        "reg = [1e-3, 1e-4, 1e-5, 1e-7]\n",
        "\n",
        "batch_size = 64\n",
        "epoch_num = 10\n",
        "\n",
        "# Record all the runs here\n",
        "# Key should be Hyperparams and values should be RunResult\n",
        "run_record = {} \n",
        "\n",
        "best_model = None\n",
        "best_accuracy = 0\n",
        "\n",
        "for lr in learning_rates:\n",
        "  for rg in reg:\n",
        "    print(\"lr: \" , lr, \" rg: \",rg)\n",
        "    lenet_model = new_lenet()\n",
        "    lenet_model.type(torch.cuda.FloatTensor)\n",
        "    lenet_model.to(device)\n",
        "    optimizer = optim.Adam(lenet_model.parameters(), lr=lr, weight_decay=rg)\n",
        "    sheduler = optim.lr_scheduler.ReduceLROnPlateau(optimizer , factor = 0.5 , patience= 2 , verbose= False)\n",
        "    loss_history, train_history, val_history = train_model(lenet_model, train_aug_loader, val_loader, loss, optimizer, epoch_num, sheduler)  \n",
        "    if val_history[-1] > best_accuracy:\n",
        "      best_model = lenet_model \n",
        "    run_record[Hyperparams(lr, rg)] = RunResult(lenet_model, train_history, val_history , val_history[-1])"
      ],
      "execution_count": 27,
      "outputs": [
        {
          "output_type": "stream",
          "text": [
            "lr:  0.001  rg:  0.001\n",
            "Average loss: 1.052153, Train accuracy: 0.689264, Val accuracy: 0.850795\n",
            "Average loss: 0.576649, Train accuracy: 0.834983, Val accuracy: 0.880076\n",
            "Average loss: 0.492345, Train accuracy: 0.856619, Val accuracy: 0.885264\n",
            "Average loss: 0.448369, Train accuracy: 0.867880, Val accuracy: 0.888950\n",
            "Average loss: 0.418445, Train accuracy: 0.876634, Val accuracy: 0.893318\n",
            "Average loss: 0.401111, Train accuracy: 0.880166, Val accuracy: 0.894410\n",
            "Average loss: 0.386774, Train accuracy: 0.885438, Val accuracy: 0.903215\n",
            "Average loss: 0.366797, Train accuracy: 0.890660, Val accuracy: 0.899734\n",
            "Average loss: 0.362492, Train accuracy: 0.892247, Val accuracy: 0.902191\n",
            "Average loss: 0.350619, Train accuracy: 0.894994, Val accuracy: 0.900962\n",
            "lr:  0.001  rg:  0.0001\n",
            "Average loss: 0.954446, Train accuracy: 0.725506, Val accuracy: 0.860692\n",
            "Average loss: 0.553368, Train accuracy: 0.839880, Val accuracy: 0.885742\n",
            "Average loss: 0.470676, Train accuracy: 0.861840, Val accuracy: 0.895434\n",
            "Average loss: 0.422597, Train accuracy: 0.875047, Val accuracy: 0.897754\n",
            "Average loss: 0.389865, Train accuracy: 0.884176, Val accuracy: 0.902805\n",
            "Average loss: 0.363670, Train accuracy: 0.890881, Val accuracy: 0.907310\n",
            "Average loss: 0.342685, Train accuracy: 0.897877, Val accuracy: 0.908539\n",
            "Average loss: 0.332663, Train accuracy: 0.899942, Val accuracy: 0.912634\n",
            "Average loss: 0.311420, Train accuracy: 0.905726, Val accuracy: 0.915091\n",
            "Average loss: 0.301709, Train accuracy: 0.908047, Val accuracy: 0.911610\n",
            "lr:  0.001  rg:  1e-05\n",
            "Average loss: 0.933072, Train accuracy: 0.733782, Val accuracy: 0.862671\n",
            "Average loss: 0.560830, Train accuracy: 0.840033, Val accuracy: 0.879803\n",
            "Average loss: 0.470957, Train accuracy: 0.860919, Val accuracy: 0.890519\n",
            "Average loss: 0.425237, Train accuracy: 0.873221, Val accuracy: 0.894205\n",
            "Average loss: 0.396530, Train accuracy: 0.882026, Val accuracy: 0.899324\n",
            "Average loss: 0.368689, Train accuracy: 0.890097, Val accuracy: 0.903078\n",
            "Average loss: 0.344994, Train accuracy: 0.897673, Val accuracy: 0.906969\n",
            "Average loss: 0.333130, Train accuracy: 0.898918, Val accuracy: 0.905808\n",
            "Average loss: 0.318013, Train accuracy: 0.903696, Val accuracy: 0.909085\n",
            "Average loss: 0.302495, Train accuracy: 0.909258, Val accuracy: 0.906218\n",
            "lr:  0.001  rg:  1e-07\n",
            "Average loss: 0.950608, Train accuracy: 0.727042, Val accuracy: 0.856392\n",
            "Average loss: 0.562107, Train accuracy: 0.838856, Val accuracy: 0.879872\n",
            "Average loss: 0.472433, Train accuracy: 0.861328, Val accuracy: 0.889018\n",
            "Average loss: 0.422077, Train accuracy: 0.875764, Val accuracy: 0.901099\n",
            "Average loss: 0.386195, Train accuracy: 0.884790, Val accuracy: 0.906013\n",
            "Average loss: 0.364574, Train accuracy: 0.891240, Val accuracy: 0.908470\n",
            "Average loss: 0.342805, Train accuracy: 0.899311, Val accuracy: 0.908607\n",
            "Average loss: 0.324517, Train accuracy: 0.902655, Val accuracy: 0.911747\n",
            "Average loss: 0.311274, Train accuracy: 0.905402, Val accuracy: 0.916251\n",
            "Average loss: 0.297840, Train accuracy: 0.911408, Val accuracy: 0.914340\n",
            "lr:  0.002  rg:  0.001\n",
            "Average loss: 0.880218, Train accuracy: 0.734140, Val accuracy: 0.868337\n",
            "Average loss: 0.538958, Train accuracy: 0.838225, Val accuracy: 0.876664\n",
            "Average loss: 0.498488, Train accuracy: 0.849964, Val accuracy: 0.882192\n",
            "Average loss: 0.457935, Train accuracy: 0.861994, Val accuracy: 0.874002\n",
            "Average loss: 0.441969, Train accuracy: 0.866208, Val accuracy: 0.891543\n",
            "Average loss: 0.432082, Train accuracy: 0.869092, Val accuracy: 0.890451\n",
            "Average loss: 0.421777, Train accuracy: 0.872368, Val accuracy: 0.893864\n",
            "Average loss: 0.413508, Train accuracy: 0.874364, Val accuracy: 0.894478\n",
            "Average loss: 0.407933, Train accuracy: 0.875320, Val accuracy: 0.891953\n",
            "Average loss: 0.406961, Train accuracy: 0.877368, Val accuracy: 0.897413\n",
            "lr:  0.002  rg:  0.0001\n",
            "Average loss: 0.868735, Train accuracy: 0.740863, Val accuracy: 0.867518\n",
            "Average loss: 0.512407, Train accuracy: 0.847729, Val accuracy: 0.892089\n",
            "Average loss: 0.442952, Train accuracy: 0.866976, Val accuracy: 0.883967\n",
            "Average loss: 0.405421, Train accuracy: 0.876873, Val accuracy: 0.896048\n",
            "Average loss: 0.377562, Train accuracy: 0.886445, Val accuracy: 0.900826\n",
            "Average loss: 0.356658, Train accuracy: 0.892144, Val accuracy: 0.900280\n",
            "Average loss: 0.335323, Train accuracy: 0.898099, Val accuracy: 0.909085\n",
            "Average loss: 0.326815, Train accuracy: 0.901119, Val accuracy: 0.910313\n",
            "Average loss: 0.312508, Train accuracy: 0.904293, Val accuracy: 0.907856\n",
            "Average loss: 0.302540, Train accuracy: 0.908508, Val accuracy: 0.909289\n",
            "lr:  0.002  rg:  1e-05\n",
            "Average loss: 0.822097, Train accuracy: 0.757994, Val accuracy: 0.864514\n",
            "Average loss: 0.513251, Train accuracy: 0.846142, Val accuracy: 0.881646\n",
            "Average loss: 0.448974, Train accuracy: 0.865099, Val accuracy: 0.890110\n",
            "Average loss: 0.405813, Train accuracy: 0.876361, Val accuracy: 0.897550\n",
            "Average loss: 0.376844, Train accuracy: 0.886957, Val accuracy: 0.900758\n",
            "Average loss: 0.352823, Train accuracy: 0.893270, Val accuracy: 0.902123\n",
            "Average loss: 0.339320, Train accuracy: 0.897656, Val accuracy: 0.904785\n",
            "Average loss: 0.320427, Train accuracy: 0.902160, Val accuracy: 0.909699\n",
            "Average loss: 0.309400, Train accuracy: 0.905795, Val accuracy: 0.912770\n",
            "Average loss: 0.298310, Train accuracy: 0.910129, Val accuracy: 0.908129\n",
            "lr:  0.002  rg:  1e-07\n",
            "Average loss: 0.833489, Train accuracy: 0.754923, Val accuracy: 0.867654\n",
            "Average loss: 0.508426, Train accuracy: 0.849248, Val accuracy: 0.888608\n",
            "Average loss: 0.440073, Train accuracy: 0.867932, Val accuracy: 0.899324\n",
            "Average loss: 0.393704, Train accuracy: 0.881190, Val accuracy: 0.903420\n",
            "Average loss: 0.369369, Train accuracy: 0.888766, Val accuracy: 0.905877\n",
            "Average loss: 0.344505, Train accuracy: 0.897263, Val accuracy: 0.901099\n",
            "Average loss: 0.327482, Train accuracy: 0.900966, Val accuracy: 0.911883\n",
            "Average loss: 0.309219, Train accuracy: 0.906170, Val accuracy: 0.909221\n",
            "Average loss: 0.295749, Train accuracy: 0.910487, Val accuracy: 0.911201\n",
            "Average loss: 0.285261, Train accuracy: 0.913575, Val accuracy: 0.915774\n",
            "lr:  0.004  rg:  0.001\n",
            "Average loss: 0.780352, Train accuracy: 0.764188, Val accuracy: 0.863559\n",
            "Average loss: 0.552601, Train accuracy: 0.831519, Val accuracy: 0.870794\n",
            "Average loss: 0.519746, Train accuracy: 0.841074, Val accuracy: 0.871476\n",
            "Average loss: 0.503219, Train accuracy: 0.847149, Val accuracy: 0.883557\n",
            "Average loss: 0.492647, Train accuracy: 0.851261, Val accuracy: 0.882875\n",
            "Average loss: 0.483881, Train accuracy: 0.852353, Val accuracy: 0.879462\n",
            "Average loss: 0.475596, Train accuracy: 0.854844, Val accuracy: 0.881578\n",
            "Average loss: 0.469456, Train accuracy: 0.857131, Val accuracy: 0.877619\n",
            "Average loss: 0.467852, Train accuracy: 0.859537, Val accuracy: 0.872500\n",
            "Average loss: 0.460729, Train accuracy: 0.860390, Val accuracy: 0.881646\n",
            "lr:  0.004  rg:  0.0001\n",
            "Average loss: 0.764551, Train accuracy: 0.768147, Val accuracy: 0.852092\n",
            "Average loss: 0.505595, Train accuracy: 0.845357, Val accuracy: 0.880691\n",
            "Average loss: 0.450658, Train accuracy: 0.864400, Val accuracy: 0.885946\n",
            "Average loss: 0.418335, Train accuracy: 0.874040, Val accuracy: 0.896867\n",
            "Average loss: 0.393638, Train accuracy: 0.879910, Val accuracy: 0.896662\n",
            "Average loss: 0.384089, Train accuracy: 0.883971, Val accuracy: 0.897481\n",
            "Average loss: 0.368301, Train accuracy: 0.888305, Val accuracy: 0.900689\n",
            "Average loss: 0.358838, Train accuracy: 0.889994, Val accuracy: 0.898096\n",
            "Average loss: 0.349598, Train accuracy: 0.892417, Val accuracy: 0.900689\n",
            "Average loss: 0.343085, Train accuracy: 0.896308, Val accuracy: 0.905808\n",
            "lr:  0.004  rg:  1e-05\n",
            "Average loss: 0.813106, Train accuracy: 0.750350, Val accuracy: 0.869838\n",
            "Average loss: 0.498513, Train accuracy: 0.847490, Val accuracy: 0.872705\n",
            "Average loss: 0.434479, Train accuracy: 0.869314, Val accuracy: 0.893864\n",
            "Average loss: 0.393658, Train accuracy: 0.880319, Val accuracy: 0.897754\n",
            "Average loss: 0.367007, Train accuracy: 0.888083, Val accuracy: 0.903283\n",
            "Average loss: 0.348219, Train accuracy: 0.894414, Val accuracy: 0.904170\n",
            "Average loss: 0.334115, Train accuracy: 0.899635, Val accuracy: 0.906696\n",
            "Average loss: 0.318567, Train accuracy: 0.902211, Val accuracy: 0.907310\n",
            "Average loss: 0.308298, Train accuracy: 0.907279, Val accuracy: 0.909221\n",
            "Average loss: 0.294018, Train accuracy: 0.910299, Val accuracy: 0.910928\n",
            "lr:  0.004  rg:  1e-07\n",
            "Average loss: 0.781155, Train accuracy: 0.762908, Val accuracy: 0.861989\n",
            "Average loss: 0.494767, Train accuracy: 0.848599, Val accuracy: 0.885537\n",
            "Average loss: 0.427536, Train accuracy: 0.870218, Val accuracy: 0.897550\n",
            "Average loss: 0.390727, Train accuracy: 0.880609, Val accuracy: 0.902532\n",
            "Average loss: 0.363813, Train accuracy: 0.890421, Val accuracy: 0.898300\n",
            "Average loss: 0.343931, Train accuracy: 0.895523, Val accuracy: 0.906559\n",
            "Average loss: 0.324728, Train accuracy: 0.901631, Val accuracy: 0.910859\n",
            "Average loss: 0.313146, Train accuracy: 0.903764, Val accuracy: 0.903147\n",
            "Average loss: 0.296701, Train accuracy: 0.908883, Val accuracy: 0.908061\n",
            "Average loss: 0.285176, Train accuracy: 0.912193, Val accuracy: 0.914886\n",
            "lr:  0.0001  rg:  0.001\n",
            "Average loss: 1.802562, Train accuracy: 0.411255, Val accuracy: 0.656133\n",
            "Average loss: 1.130546, Train accuracy: 0.696192, Val accuracy: 0.776671\n",
            "Average loss: 0.918047, Train accuracy: 0.764905, Val accuracy: 0.819398\n",
            "Average loss: 0.802734, Train accuracy: 0.797273, Val accuracy: 0.841786\n",
            "Average loss: 0.719949, Train accuracy: 0.817544, Val accuracy: 0.855914\n",
            "Average loss: 0.658514, Train accuracy: 0.832952, Val accuracy: 0.867791\n",
            "Average loss: 0.615080, Train accuracy: 0.841433, Val accuracy: 0.872159\n",
            "Average loss: 0.576778, Train accuracy: 0.850220, Val accuracy: 0.876937\n",
            "Average loss: 0.538548, Train accuracy: 0.859485, Val accuracy: 0.882534\n",
            "Average loss: 0.514410, Train accuracy: 0.865662, Val accuracy: 0.886492\n",
            "lr:  0.0001  rg:  0.0001\n",
            "Average loss: 1.675740, Train accuracy: 0.466642, Val accuracy: 0.721452\n",
            "Average loss: 1.045318, Train accuracy: 0.727025, Val accuracy: 0.804518\n",
            "Average loss: 0.859982, Train accuracy: 0.784408, Val accuracy: 0.837212\n",
            "Average loss: 0.758841, Train accuracy: 0.809235, Val accuracy: 0.854208\n",
            "Average loss: 0.688761, Train accuracy: 0.824933, Val accuracy: 0.863764\n",
            "Average loss: 0.629999, Train accuracy: 0.840665, Val accuracy: 0.874002\n",
            "Average loss: 0.589198, Train accuracy: 0.847763, Val accuracy: 0.881032\n",
            "Average loss: 0.550698, Train accuracy: 0.857591, Val accuracy: 0.882261\n",
            "Average loss: 0.519991, Train accuracy: 0.863683, Val accuracy: 0.886561\n",
            "Average loss: 0.492346, Train accuracy: 0.869160, Val accuracy: 0.892021\n",
            "lr:  0.0001  rg:  1e-05\n",
            "Average loss: 1.688939, Train accuracy: 0.457206, Val accuracy: 0.679135\n",
            "Average loss: 1.111230, Train accuracy: 0.699621, Val accuracy: 0.777012\n",
            "Average loss: 0.912719, Train accuracy: 0.762328, Val accuracy: 0.818579\n",
            "Average loss: 0.797854, Train accuracy: 0.796642, Val accuracy: 0.836735\n",
            "Average loss: 0.722365, Train accuracy: 0.815241, Val accuracy: 0.849294\n",
            "Average loss: 0.661666, Train accuracy: 0.829437, Val accuracy: 0.861579\n",
            "Average loss: 0.616463, Train accuracy: 0.839914, Val accuracy: 0.872091\n",
            "Average loss: 0.572399, Train accuracy: 0.850459, Val accuracy: 0.876459\n",
            "Average loss: 0.543617, Train accuracy: 0.856397, Val accuracy: 0.878848\n",
            "Average loss: 0.513657, Train accuracy: 0.865338, Val accuracy: 0.885605\n",
            "lr:  0.0001  rg:  1e-07\n",
            "Average loss: 1.666997, Train accuracy: 0.463877, Val accuracy: 0.688281\n",
            "Average loss: 1.092165, Train accuracy: 0.705491, Val accuracy: 0.787660\n",
            "Average loss: 0.898796, Train accuracy: 0.768727, Val accuracy: 0.828544\n",
            "Average loss: 0.785051, Train accuracy: 0.799577, Val accuracy: 0.846836\n",
            "Average loss: 0.705706, Train accuracy: 0.819268, Val accuracy: 0.856460\n",
            "Average loss: 0.651427, Train accuracy: 0.830683, Val accuracy: 0.864310\n",
            "Average loss: 0.604436, Train accuracy: 0.844146, Val accuracy: 0.873456\n",
            "Average loss: 0.565717, Train accuracy: 0.852745, Val accuracy: 0.878438\n",
            "Average loss: 0.534112, Train accuracy: 0.859622, Val accuracy: 0.884445\n",
            "Average loss: 0.507639, Train accuracy: 0.865423, Val accuracy: 0.883899\n",
            "lr:  0.0002  rg:  0.001\n",
            "Average loss: 1.430497, Train accuracy: 0.567638, Val accuracy: 0.777148\n",
            "Average loss: 0.871523, Train accuracy: 0.774614, Val accuracy: 0.839533\n",
            "Average loss: 0.710371, Train accuracy: 0.814831, Val accuracy: 0.862945\n",
            "Average loss: 0.617701, Train accuracy: 0.837303, Val accuracy: 0.873865\n",
            "Average loss: 0.554042, Train accuracy: 0.852251, Val accuracy: 0.885537\n",
            "Average loss: 0.508551, Train accuracy: 0.862011, Val accuracy: 0.888062\n",
            "Average loss: 0.475299, Train accuracy: 0.870133, Val accuracy: 0.893864\n",
            "Average loss: 0.443992, Train accuracy: 0.876071, Val accuracy: 0.893659\n",
            "Average loss: 0.424098, Train accuracy: 0.881036, Val accuracy: 0.895843\n",
            "Average loss: 0.405415, Train accuracy: 0.885114, Val accuracy: 0.898710\n",
            "lr:  0.0002  rg:  0.0001\n",
            "Average loss: 1.432609, Train accuracy: 0.566154, Val accuracy: 0.782336\n",
            "Average loss: 0.862507, Train accuracy: 0.778060, Val accuracy: 0.846563\n",
            "Average loss: 0.693782, Train accuracy: 0.822100, Val accuracy: 0.868405\n",
            "Average loss: 0.605000, Train accuracy: 0.841945, Val accuracy: 0.881646\n",
            "Average loss: 0.539193, Train accuracy: 0.856209, Val accuracy: 0.891407\n",
            "Average loss: 0.493345, Train accuracy: 0.868085, Val accuracy: 0.891953\n",
            "Average loss: 0.458517, Train accuracy: 0.875525, Val accuracy: 0.898505\n",
            "Average loss: 0.430633, Train accuracy: 0.881429, Val accuracy: 0.903283\n",
            "Average loss: 0.409112, Train accuracy: 0.886735, Val accuracy: 0.903761\n",
            "Average loss: 0.386436, Train accuracy: 0.892707, Val accuracy: 0.906286\n",
            "lr:  0.0002  rg:  1e-05\n",
            "Average loss: 1.554416, Train accuracy: 0.515613, Val accuracy: 0.746570\n",
            "Average loss: 0.929079, Train accuracy: 0.754274, Val accuracy: 0.823766\n",
            "Average loss: 0.744298, Train accuracy: 0.804559, Val accuracy: 0.850386\n",
            "Average loss: 0.646037, Train accuracy: 0.828635, Val accuracy: 0.867313\n",
            "Average loss: 0.574550, Train accuracy: 0.845681, Val accuracy: 0.877346\n",
            "Average loss: 0.525540, Train accuracy: 0.856090, Val accuracy: 0.884172\n",
            "Average loss: 0.488339, Train accuracy: 0.866208, Val accuracy: 0.887789\n",
            "Average loss: 0.458605, Train accuracy: 0.871959, Val accuracy: 0.889086\n",
            "Average loss: 0.433856, Train accuracy: 0.877931, Val accuracy: 0.894683\n",
            "Average loss: 0.415206, Train accuracy: 0.881360, Val accuracy: 0.897277\n",
            "lr:  0.0002  rg:  1e-07\n",
            "Average loss: 1.466039, Train accuracy: 0.555984, Val accuracy: 0.765750\n",
            "Average loss: 0.897716, Train accuracy: 0.766901, Val accuracy: 0.826770\n",
            "Average loss: 0.729073, Train accuracy: 0.809832, Val accuracy: 0.858849\n",
            "Average loss: 0.634043, Train accuracy: 0.831724, Val accuracy: 0.872295\n",
            "Average loss: 0.561567, Train accuracy: 0.850305, Val accuracy: 0.877141\n",
            "Average loss: 0.516006, Train accuracy: 0.858752, Val accuracy: 0.886219\n",
            "Average loss: 0.473605, Train accuracy: 0.869689, Val accuracy: 0.892021\n",
            "Average loss: 0.445227, Train accuracy: 0.876241, Val accuracy: 0.896662\n",
            "Average loss: 0.425361, Train accuracy: 0.879398, Val accuracy: 0.898983\n",
            "Average loss: 0.403925, Train accuracy: 0.885541, Val accuracy: 0.903624\n",
            "lr:  0.0003  rg:  0.001\n",
            "Average loss: 1.248826, Train accuracy: 0.636692, Val accuracy: 0.818579\n",
            "Average loss: 0.744379, Train accuracy: 0.807016, Val accuracy: 0.862535\n",
            "Average loss: 0.599223, Train accuracy: 0.843651, Val accuracy: 0.874411\n",
            "Average loss: 0.525912, Train accuracy: 0.858837, Val accuracy: 0.886424\n",
            "Average loss: 0.469160, Train accuracy: 0.870679, Val accuracy: 0.895229\n",
            "Average loss: 0.437475, Train accuracy: 0.877845, Val accuracy: 0.899120\n",
            "Average loss: 0.406475, Train accuracy: 0.885899, Val accuracy: 0.900007\n",
            "Average loss: 0.380465, Train accuracy: 0.892588, Val accuracy: 0.904170\n",
            "Average loss: 0.363672, Train accuracy: 0.896819, Val accuracy: 0.905535\n",
            "Average loss: 0.349802, Train accuracy: 0.899959, Val accuracy: 0.905945\n",
            "lr:  0.0003  rg:  0.0001\n",
            "Average loss: 1.358352, Train accuracy: 0.594666, Val accuracy: 0.798307\n",
            "Average loss: 0.791471, Train accuracy: 0.792223, Val accuracy: 0.851409\n",
            "Average loss: 0.642381, Train accuracy: 0.827253, Val accuracy: 0.871135\n",
            "Average loss: 0.560980, Train accuracy: 0.845494, Val accuracy: 0.880486\n",
            "Average loss: 0.510252, Train accuracy: 0.857540, Val accuracy: 0.886424\n",
            "Average loss: 0.470084, Train accuracy: 0.866618, Val accuracy: 0.890383\n",
            "Average loss: 0.434403, Train accuracy: 0.876037, Val accuracy: 0.892772\n",
            "Average loss: 0.415036, Train accuracy: 0.880354, Val accuracy: 0.899939\n",
            "Average loss: 0.393106, Train accuracy: 0.886223, Val accuracy: 0.902191\n",
            "Average loss: 0.373410, Train accuracy: 0.892110, Val accuracy: 0.903283\n",
            "lr:  0.0003  rg:  1e-05\n",
            "Average loss: 1.271475, Train accuracy: 0.633860, Val accuracy: 0.815234\n",
            "Average loss: 0.750024, Train accuracy: 0.805617, Val accuracy: 0.859122\n",
            "Average loss: 0.609651, Train accuracy: 0.837713, Val accuracy: 0.865060\n",
            "Average loss: 0.533591, Train accuracy: 0.856533, Val accuracy: 0.880759\n",
            "Average loss: 0.484017, Train accuracy: 0.866106, Val accuracy: 0.887516\n",
            "Average loss: 0.445219, Train accuracy: 0.874228, Val accuracy: 0.897004\n",
            "Average loss: 0.417295, Train accuracy: 0.880473, Val accuracy: 0.898915\n",
            "Average loss: 0.392683, Train accuracy: 0.886343, Val accuracy: 0.903147\n",
            "Average loss: 0.370975, Train accuracy: 0.892400, Val accuracy: 0.901508\n",
            "Average loss: 0.358770, Train accuracy: 0.896598, Val accuracy: 0.904443\n",
            "lr:  0.0003  rg:  1e-07\n",
            "Average loss: 1.284567, Train accuracy: 0.620278, Val accuracy: 0.814825\n",
            "Average loss: 0.753190, Train accuracy: 0.804099, Val accuracy: 0.858713\n",
            "Average loss: 0.619027, Train accuracy: 0.834061, Val accuracy: 0.870930\n",
            "Average loss: 0.538223, Train accuracy: 0.852950, Val accuracy: 0.888199\n",
            "Average loss: 0.487920, Train accuracy: 0.863376, Val accuracy: 0.891543\n",
            "Average loss: 0.445908, Train accuracy: 0.874074, Val accuracy: 0.895775\n",
            "Average loss: 0.422905, Train accuracy: 0.878204, Val accuracy: 0.900826\n",
            "Average loss: 0.398638, Train accuracy: 0.884329, Val accuracy: 0.902396\n",
            "Average loss: 0.379868, Train accuracy: 0.889772, Val accuracy: 0.903420\n",
            "Average loss: 0.364281, Train accuracy: 0.894243, Val accuracy: 0.904716\n"
          ],
          "name": "stdout"
        }
      ]
    },
    {
      "cell_type": "code",
      "metadata": {
        "id": "Y6xExdw8JB1l",
        "colab": {
          "base_uri": "https://localhost:8080/"
        },
        "outputId": "57987e3d-bbd0-4a55-d084-59ec952f6797"
      },
      "source": [
        "best_val_accuracy = None\n",
        "best_hyperparams = None\n",
        "best_run = None\n",
        "\n",
        "for hyperparams, run_result in run_record.items():\n",
        "    if best_val_accuracy is None or best_val_accuracy < run_result.final_val_accuracy:\n",
        "        best_val_accuracy = run_result.final_val_accuracy\n",
        "        best_hyperparams = hyperparams\n",
        "        best_run = run_result\n",
        "        \n",
        "print(\"Best validation accuracy: %4.2f, best hyperparams: %s\" % (best_val_accuracy, best_hyperparams))\n",
        "        "
      ],
      "execution_count": 28,
      "outputs": [
        {
          "output_type": "stream",
          "text": [
            "Best validation accuracy: 0.92, best hyperparams: Hyperparams(learning_rate=0.002, reg=1e-07)\n"
          ],
          "name": "stdout"
        }
      ]
    },
    {
      "cell_type": "markdown",
      "metadata": {
        "id": "LOmsR0uVgtgf"
      },
      "source": [
        "# Свободное упражнение - догоним и перегоним LeNet!\n",
        "\n",
        "Попробуйте найти архитектуру и настройки тренировки, чтобы выступить лучше наших бейзлайнов.\n",
        "\n",
        "Что можно и нужно попробовать:\n",
        "- BatchNormalization (для convolution layers он в PyTorch называется [batchnorm2d](https://pytorch.org/docs/stable/nn.html#batchnorm2d))\n",
        "- Изменить количество слоев и их толщину\n",
        "- Изменять количество эпох тренировки\n",
        "- Попробовать и другие агментации"
      ]
    },
    {
      "cell_type": "code",
      "metadata": {
        "id": "tSVhD747icoc",
        "colab": {
          "base_uri": "https://localhost:8080/"
        },
        "outputId": "df1fba1b-e3a8-4050-b67b-387e772e18d2"
      },
      "source": [
        "lenet_model = new_lenet()\n",
        "lenet_model.type(torch.cuda.FloatTensor)\n",
        "lenet_model.to(device)\n",
        "optimizer = optim.Adam(lenet_model.parameters(), lr=0.002, weight_decay=1e-07)\n",
        "sheduler = optim.lr_scheduler.ReduceLROnPlateau(optimizer , factor = 0.5 , patience= 2 , verbose= False)\n",
        "loss_history, train_history, val_history = train_model(lenet_model, train_aug_loader, val_loader, loss, optimizer, 30, sheduler)"
      ],
      "execution_count": 30,
      "outputs": [
        {
          "output_type": "stream",
          "text": [
            "Average loss: 0.830260, Train accuracy: 0.756646, Val accuracy: 0.868268\n",
            "Average loss: 0.518488, Train accuracy: 0.844060, Val accuracy: 0.884513\n",
            "Average loss: 0.446766, Train accuracy: 0.865816, Val accuracy: 0.895570\n",
            "Average loss: 0.407721, Train accuracy: 0.877163, Val accuracy: 0.893796\n",
            "Average loss: 0.374418, Train accuracy: 0.887213, Val accuracy: 0.903693\n",
            "Average loss: 0.356093, Train accuracy: 0.892690, Val accuracy: 0.904989\n",
            "Average loss: 0.335041, Train accuracy: 0.897058, Val accuracy: 0.909085\n",
            "Average loss: 0.321036, Train accuracy: 0.902467, Val accuracy: 0.910791\n",
            "Average loss: 0.308183, Train accuracy: 0.906051, Val accuracy: 0.913999\n",
            "Average loss: 0.297092, Train accuracy: 0.909327, Val accuracy: 0.909699\n",
            "Average loss: 0.280195, Train accuracy: 0.915367, Val accuracy: 0.910177\n",
            "Average loss: 0.276802, Train accuracy: 0.915777, Val accuracy: 0.912770\n",
            "Average loss: 0.266681, Train accuracy: 0.918490, Val accuracy: 0.915842\n",
            "Average loss: 0.257305, Train accuracy: 0.920725, Val accuracy: 0.908197\n",
            "Average loss: 0.247311, Train accuracy: 0.924001, Val accuracy: 0.914818\n",
            "Average loss: 0.241648, Train accuracy: 0.924598, Val accuracy: 0.914340\n",
            "Average loss: 0.237793, Train accuracy: 0.926663, Val accuracy: 0.915091\n",
            "Average loss: 0.229575, Train accuracy: 0.928898, Val accuracy: 0.913453\n",
            "Average loss: 0.225649, Train accuracy: 0.929512, Val accuracy: 0.911337\n",
            "Average loss: 0.223453, Train accuracy: 0.930041, Val accuracy: 0.913658\n",
            "Average loss: 0.213383, Train accuracy: 0.932311, Val accuracy: 0.913931\n",
            "Average loss: 0.209586, Train accuracy: 0.934921, Val accuracy: 0.913863\n",
            "Average loss: 0.206900, Train accuracy: 0.935024, Val accuracy: 0.915774\n",
            "Average loss: 0.204279, Train accuracy: 0.935723, Val accuracy: 0.913316\n",
            "Average loss: 0.196109, Train accuracy: 0.939307, Val accuracy: 0.912566\n",
            "Average loss: 0.197221, Train accuracy: 0.937293, Val accuracy: 0.912293\n",
            "Average loss: 0.191264, Train accuracy: 0.939477, Val accuracy: 0.913385\n",
            "Average loss: 0.187177, Train accuracy: 0.942122, Val accuracy: 0.913931\n",
            "Average loss: 0.183976, Train accuracy: 0.941747, Val accuracy: 0.915637\n",
            "Average loss: 0.182426, Train accuracy: 0.942446, Val accuracy: 0.914818\n"
          ],
          "name": "stdout"
        }
      ]
    },
    {
      "cell_type": "markdown",
      "metadata": {
        "id": "ubeKgBcnhx7N"
      },
      "source": [
        "# Финальный аккорд - проверим лучшую модель на test set\n",
        "\n",
        "В качестве разнообразия - напишите код для прогона модели на test set вы.\n",
        "\n",
        "В результате вы должны натренировать модель, которая покажет более **90%** точности на test set.  \n",
        "Как водится, лучший результат в группе получит дополнительные баллы!"
      ]
    },
    {
      "cell_type": "code",
      "metadata": {
        "id": "EIqM1kdeh-hd",
        "colab": {
          "base_uri": "https://localhost:8080/"
        },
        "outputId": "537f9fa1-761c-4f94-a547-152903becfb4"
      },
      "source": [
        "# TODO Write the code to compute accuracy on test set\n",
        "final_test_accuracy = compute_accuracy(lenet_model, torch.utils.data.DataLoader(data_test, batch_size=batch_size))\n",
        "print(\"Final test accuracy - \", final_test_accuracy)"
      ],
      "execution_count": 31,
      "outputs": [
        {
          "output_type": "stream",
          "text": [
            "Final test accuracy -  0.9038875230485556\n"
          ],
          "name": "stdout"
        }
      ]
    },
    {
      "cell_type": "code",
      "metadata": {
        "id": "BfH6qip6kVX_"
      },
      "source": [
        ""
      ],
      "execution_count": null,
      "outputs": []
    }
  ]
}